{
 "cells": [
  {
   "cell_type": "code",
   "execution_count": 95,
   "metadata": {},
   "outputs": [],
   "source": [
    "import pandas as pd\n",
    "import numpy as np\n",
    "import matplotlib\n",
    "import matplotlib.pyplot as plt\n",
    "import squarify\n",
    "import yfinance as yf\n",
    "import plotly\n",
    "import plotly.express as px\n",
    "\n",
    "import seaborn as sns\n",
    "\n",
    "# Configurando los estilos de los gráficos\n",
    "plt.ioff()\n",
    "sns.set_context('talk')\n",
    "sns.set_style(\"whitegrid\")\n",
    "\n",
    "# Configurando plotly orca\n",
    "plotly.io.orca.config.executable = r'C:\\anaconda3\\orca_app\\orca.exe'\n",
    "plotly.io.orca.config.save()"
   ]
  },
  {
   "cell_type": "markdown",
   "metadata": {},
   "source": [
    "## Data acquisition"
   ]
  },
  {
   "cell_type": "code",
   "execution_count": 96,
   "metadata": {},
   "outputs": [
    {
     "data": {
      "text/html": [
       "<div>\n",
       "<style scoped>\n",
       "    .dataframe tbody tr th:only-of-type {\n",
       "        vertical-align: middle;\n",
       "    }\n",
       "\n",
       "    .dataframe tbody tr th {\n",
       "        vertical-align: top;\n",
       "    }\n",
       "\n",
       "    .dataframe thead th {\n",
       "        text-align: right;\n",
       "    }\n",
       "</style>\n",
       "<table border=\"1\" class=\"dataframe\">\n",
       "  <thead>\n",
       "    <tr style=\"text-align: right;\">\n",
       "      <th></th>\n",
       "      <th>Company</th>\n",
       "      <th>Symbol</th>\n",
       "      <th>Yahoo Symbol</th>\n",
       "      <th>Description</th>\n",
       "      <th>Country</th>\n",
       "      <th>Indices</th>\n",
       "      <th>Industries</th>\n",
       "      <th>Market Cap</th>\n",
       "      <th>Market Cap (USD)</th>\n",
       "      <th>Currency</th>\n",
       "      <th>Long Score</th>\n",
       "      <th>Short Score</th>\n",
       "    </tr>\n",
       "  </thead>\n",
       "  <tbody>\n",
       "    <tr>\n",
       "      <th>0</th>\n",
       "      <td>3M Company</td>\n",
       "      <td>MMM</td>\n",
       "      <td>MMM.F</td>\n",
       "      <td>3M Company develops, manufactures, and markets...</td>\n",
       "      <td>United States</td>\n",
       "      <td>DOW JONES, S&amp;P 100, S&amp;P 500</td>\n",
       "      <td>Industrials, Industrial Conglomerates</td>\n",
       "      <td>88588066816</td>\n",
       "      <td>170.924903</td>\n",
       "      <td>17.507723</td>\n",
       "      <td>55.956284</td>\n",
       "      <td>1.024057e+11</td>\n",
       "    </tr>\n",
       "    <tr>\n",
       "      <th>1</th>\n",
       "      <td>A. O. Smith Corporation</td>\n",
       "      <td>AOS</td>\n",
       "      <td>AOS</td>\n",
       "      <td>A. O. Smith Corporation manufactures and marke...</td>\n",
       "      <td>United States</td>\n",
       "      <td>S&amp;P 500</td>\n",
       "      <td>Industrial Goods, Industrials, Machinery, Equi...</td>\n",
       "      <td>10306088960</td>\n",
       "      <td>73.809998</td>\n",
       "      <td>26.751354</td>\n",
       "      <td>53.333333</td>\n",
       "      <td>1.030609e+10</td>\n",
       "    </tr>\n",
       "    <tr>\n",
       "      <th>2</th>\n",
       "      <td>AMETEK Inc.</td>\n",
       "      <td>AME</td>\n",
       "      <td>AME</td>\n",
       "      <td>AMETEK, Inc. manufactures and sells electronic...</td>\n",
       "      <td>United States</td>\n",
       "      <td>S&amp;P 500</td>\n",
       "      <td>Industrial Goods, Industrials, Machinery, Equi...</td>\n",
       "      <td>29139671040</td>\n",
       "      <td>139.885179</td>\n",
       "      <td>36.147236</td>\n",
       "      <td>63.278689</td>\n",
       "      <td>2.913967e+10</td>\n",
       "    </tr>\n",
       "    <tr>\n",
       "      <th>3</th>\n",
       "      <td>ANSYS Inc.</td>\n",
       "      <td>ANSS</td>\n",
       "      <td>ANSS</td>\n",
       "      <td>ANSYS, Inc. develops and markets engineering s...</td>\n",
       "      <td>United States</td>\n",
       "      <td>NASDAQ 100, S&amp;P 500</td>\n",
       "      <td>Software, Technology, Software &amp; IT Services</td>\n",
       "      <td>30125694976</td>\n",
       "      <td>413.190002</td>\n",
       "      <td>65.754234</td>\n",
       "      <td>67.759563</td>\n",
       "      <td>3.012569e+10</td>\n",
       "    </tr>\n",
       "    <tr>\n",
       "      <th>4</th>\n",
       "      <td>ASML Holding N.V.</td>\n",
       "      <td>ASML</td>\n",
       "      <td>ASML</td>\n",
       "      <td>ASML Holding N.V. develops, produces, markets,...</td>\n",
       "      <td>Netherlands</td>\n",
       "      <td>AEX, EURO STOXX 50, NASDAQ 100</td>\n",
       "      <td>Semiconductor Equipment &amp; Testing, Technology,...</td>\n",
       "      <td>304167682048</td>\n",
       "      <td>895.929993</td>\n",
       "      <td>56.918940</td>\n",
       "      <td>70.163934</td>\n",
       "      <td>3.041677e+11</td>\n",
       "    </tr>\n",
       "    <tr>\n",
       "      <th>...</th>\n",
       "      <td>...</td>\n",
       "      <td>...</td>\n",
       "      <td>...</td>\n",
       "      <td>...</td>\n",
       "      <td>...</td>\n",
       "      <td>...</td>\n",
       "      <td>...</td>\n",
       "      <td>...</td>\n",
       "      <td>...</td>\n",
       "      <td>...</td>\n",
       "      <td>...</td>\n",
       "      <td>...</td>\n",
       "    </tr>\n",
       "    <tr>\n",
       "      <th>300</th>\n",
       "      <td>Zebra Technologies Corporation</td>\n",
       "      <td>ZBRA</td>\n",
       "      <td>ZBRA</td>\n",
       "      <td>Zebra Technologies Corporation, together with ...</td>\n",
       "      <td>United States</td>\n",
       "      <td>S&amp;P 500</td>\n",
       "      <td>Computer hardware</td>\n",
       "      <td>26687690752</td>\n",
       "      <td>594.770020</td>\n",
       "      <td>41.801193</td>\n",
       "      <td>56.284153</td>\n",
       "      <td>2.668769e+10</td>\n",
       "    </tr>\n",
       "    <tr>\n",
       "      <th>301</th>\n",
       "      <td>adidas AG</td>\n",
       "      <td>ADS</td>\n",
       "      <td>ADS.F</td>\n",
       "      <td>adidas AG, together with its subsidiaries, des...</td>\n",
       "      <td>Germany</td>\n",
       "      <td>DAX, EURO STOXX 50</td>\n",
       "      <td>Cyclical Consumer Products, Footwear, Textiles...</td>\n",
       "      <td>51233796096</td>\n",
       "      <td>335.049988</td>\n",
       "      <td>53.342846</td>\n",
       "      <td>30.983607</td>\n",
       "      <td>5.922503e+10</td>\n",
       "    </tr>\n",
       "    <tr>\n",
       "      <th>302</th>\n",
       "      <td>eBay Inc.</td>\n",
       "      <td>EBAY</td>\n",
       "      <td>EBAY</td>\n",
       "      <td>eBay Inc. operates marketplace platforms that ...</td>\n",
       "      <td>United States</td>\n",
       "      <td>NASDAQ 100, S&amp;P 500</td>\n",
       "      <td>Technology, Software &amp; IT Services, Internet S...</td>\n",
       "      <td>48786706432</td>\n",
       "      <td>77.720001</td>\n",
       "      <td>4.051063</td>\n",
       "      <td>69.726776</td>\n",
       "      <td>4.878671e+10</td>\n",
       "    </tr>\n",
       "    <tr>\n",
       "      <th>303</th>\n",
       "      <td>lululemon athletica inc.</td>\n",
       "      <td>LULU</td>\n",
       "      <td>LULU</td>\n",
       "      <td>lululemon athletica inc., together with its su...</td>\n",
       "      <td>Canada</td>\n",
       "      <td>NASDAQ 100</td>\n",
       "      <td>Retail</td>\n",
       "      <td>53766905856</td>\n",
       "      <td>437.320007</td>\n",
       "      <td>73.709410</td>\n",
       "      <td>61.311475</td>\n",
       "      <td>5.376691e+10</td>\n",
       "    </tr>\n",
       "    <tr>\n",
       "      <th>304</th>\n",
       "      <td>salesforce.com Inc.</td>\n",
       "      <td>CRM</td>\n",
       "      <td>CRM</td>\n",
       "      <td>salesforce.com, inc. develops enterprise cloud...</td>\n",
       "      <td>United States</td>\n",
       "      <td>DOW JONES, S&amp;P 100, S&amp;P 500</td>\n",
       "      <td>Technology, Software &amp; IT Services, IT Service...</td>\n",
       "      <td>266757931008</td>\n",
       "      <td>286.359985</td>\n",
       "      <td>109.122955</td>\n",
       "      <td>61.639344</td>\n",
       "      <td>2.667579e+11</td>\n",
       "    </tr>\n",
       "  </tbody>\n",
       "</table>\n",
       "<p>305 rows × 12 columns</p>\n",
       "</div>"
      ],
      "text/plain": [
       "                            Company Symbol Yahoo Symbol  \\\n",
       "0                        3M Company    MMM        MMM.F   \n",
       "1           A. O. Smith Corporation    AOS          AOS   \n",
       "2                       AMETEK Inc.    AME          AME   \n",
       "3                        ANSYS Inc.   ANSS         ANSS   \n",
       "4                 ASML Holding N.V.   ASML         ASML   \n",
       "..                              ...    ...          ...   \n",
       "300  Zebra Technologies Corporation   ZBRA         ZBRA   \n",
       "301                       adidas AG    ADS        ADS.F   \n",
       "302                       eBay Inc.   EBAY         EBAY   \n",
       "303        lululemon athletica inc.   LULU         LULU   \n",
       "304             salesforce.com Inc.    CRM          CRM   \n",
       "\n",
       "                                           Description        Country  \\\n",
       "0    3M Company develops, manufactures, and markets...  United States   \n",
       "1    A. O. Smith Corporation manufactures and marke...  United States   \n",
       "2    AMETEK, Inc. manufactures and sells electronic...  United States   \n",
       "3    ANSYS, Inc. develops and markets engineering s...  United States   \n",
       "4    ASML Holding N.V. develops, produces, markets,...    Netherlands   \n",
       "..                                                 ...            ...   \n",
       "300  Zebra Technologies Corporation, together with ...  United States   \n",
       "301  adidas AG, together with its subsidiaries, des...        Germany   \n",
       "302  eBay Inc. operates marketplace platforms that ...  United States   \n",
       "303  lululemon athletica inc., together with its su...         Canada   \n",
       "304  salesforce.com, inc. develops enterprise cloud...  United States   \n",
       "\n",
       "                            Indices  \\\n",
       "0       DOW JONES, S&P 100, S&P 500   \n",
       "1                           S&P 500   \n",
       "2                           S&P 500   \n",
       "3               NASDAQ 100, S&P 500   \n",
       "4    AEX, EURO STOXX 50, NASDAQ 100   \n",
       "..                              ...   \n",
       "300                         S&P 500   \n",
       "301              DAX, EURO STOXX 50   \n",
       "302             NASDAQ 100, S&P 500   \n",
       "303                      NASDAQ 100   \n",
       "304     DOW JONES, S&P 100, S&P 500   \n",
       "\n",
       "                                            Industries    Market Cap  \\\n",
       "0                Industrials, Industrial Conglomerates   88588066816   \n",
       "1    Industrial Goods, Industrials, Machinery, Equi...   10306088960   \n",
       "2    Industrial Goods, Industrials, Machinery, Equi...   29139671040   \n",
       "3         Software, Technology, Software & IT Services   30125694976   \n",
       "4    Semiconductor Equipment & Testing, Technology,...  304167682048   \n",
       "..                                                 ...           ...   \n",
       "300                                  Computer hardware   26687690752   \n",
       "301  Cyclical Consumer Products, Footwear, Textiles...   51233796096   \n",
       "302  Technology, Software & IT Services, Internet S...   48786706432   \n",
       "303                                             Retail   53766905856   \n",
       "304  Technology, Software & IT Services, IT Service...  266757931008   \n",
       "\n",
       "     Market Cap (USD)    Currency  Long Score   Short Score  \n",
       "0          170.924903   17.507723   55.956284  1.024057e+11  \n",
       "1           73.809998   26.751354   53.333333  1.030609e+10  \n",
       "2          139.885179   36.147236   63.278689  2.913967e+10  \n",
       "3          413.190002   65.754234   67.759563  3.012569e+10  \n",
       "4          895.929993   56.918940   70.163934  3.041677e+11  \n",
       "..                ...         ...         ...           ...  \n",
       "300        594.770020   41.801193   56.284153  2.668769e+10  \n",
       "301        335.049988   53.342846   30.983607  5.922503e+10  \n",
       "302         77.720001    4.051063   69.726776  4.878671e+10  \n",
       "303        437.320007   73.709410   61.311475  5.376691e+10  \n",
       "304        286.359985  109.122955   61.639344  2.667579e+11  \n",
       "\n",
       "[305 rows x 12 columns]"
      ]
     },
     "execution_count": 96,
     "metadata": {},
     "output_type": "execute_result"
    }
   ],
   "source": [
    "excel_df = pd.read_excel('market_stock_value_scoring.xlsx', usecols=['Company','Symbol','Symbol_Yahoo','Description','MarketCap','MarketCap_USD','Currency','Country','Indices','Industries','Score_Long','Score_Short'])\n",
    "excel_df.columns = ['Company','Symbol','Yahoo Symbol','Description','Country','Indices','Industries','Market Cap','Market Cap (USD)','Currency', 'Long Score','Short Score']\n",
    "excel_df"
   ]
  },
  {
   "cell_type": "markdown",
   "metadata": {},
   "source": [
    "## Data transformation"
   ]
  },
  {
   "cell_type": "code",
   "execution_count": 97,
   "metadata": {},
   "outputs": [
    {
     "data": {
      "text/html": [
       "<div>\n",
       "<style scoped>\n",
       "    .dataframe tbody tr th:only-of-type {\n",
       "        vertical-align: middle;\n",
       "    }\n",
       "\n",
       "    .dataframe tbody tr th {\n",
       "        vertical-align: top;\n",
       "    }\n",
       "\n",
       "    .dataframe thead th {\n",
       "        text-align: right;\n",
       "    }\n",
       "</style>\n",
       "<table border=\"1\" class=\"dataframe\">\n",
       "  <thead>\n",
       "    <tr style=\"text-align: right;\">\n",
       "      <th></th>\n",
       "      <th>Symbol</th>\n",
       "      <th>Yahoo Symbol</th>\n",
       "      <th>Country</th>\n",
       "      <th>Indices</th>\n",
       "      <th>Industries</th>\n",
       "      <th>Market Cap</th>\n",
       "      <th>Market Cap (USD)</th>\n",
       "    </tr>\n",
       "  </thead>\n",
       "  <tbody>\n",
       "    <tr>\n",
       "      <th>0</th>\n",
       "      <td>MMM</td>\n",
       "      <td>MMM.F</td>\n",
       "      <td>United States</td>\n",
       "      <td>DOW JONES, S&amp;P 100, S&amp;P 500</td>\n",
       "      <td>Industrials, Industrial Conglomerates</td>\n",
       "      <td>88588066816</td>\n",
       "      <td>170.924903</td>\n",
       "    </tr>\n",
       "    <tr>\n",
       "      <th>1</th>\n",
       "      <td>AOS</td>\n",
       "      <td>AOS</td>\n",
       "      <td>United States</td>\n",
       "      <td>S&amp;P 500</td>\n",
       "      <td>Industrial Goods, Industrials, Machinery, Equi...</td>\n",
       "      <td>10306088960</td>\n",
       "      <td>73.809998</td>\n",
       "    </tr>\n",
       "    <tr>\n",
       "      <th>2</th>\n",
       "      <td>AME</td>\n",
       "      <td>AME</td>\n",
       "      <td>United States</td>\n",
       "      <td>S&amp;P 500</td>\n",
       "      <td>Industrial Goods, Industrials, Machinery, Equi...</td>\n",
       "      <td>29139671040</td>\n",
       "      <td>139.885179</td>\n",
       "    </tr>\n",
       "    <tr>\n",
       "      <th>3</th>\n",
       "      <td>ANSS</td>\n",
       "      <td>ANSS</td>\n",
       "      <td>United States</td>\n",
       "      <td>NASDAQ 100, S&amp;P 500</td>\n",
       "      <td>Software, Technology, Software &amp; IT Services</td>\n",
       "      <td>30125694976</td>\n",
       "      <td>413.190002</td>\n",
       "    </tr>\n",
       "    <tr>\n",
       "      <th>4</th>\n",
       "      <td>ASML</td>\n",
       "      <td>ASML</td>\n",
       "      <td>Netherlands</td>\n",
       "      <td>AEX, EURO STOXX 50, NASDAQ 100</td>\n",
       "      <td>Semiconductor Equipment &amp; Testing, Technology,...</td>\n",
       "      <td>304167682048</td>\n",
       "      <td>895.929993</td>\n",
       "    </tr>\n",
       "    <tr>\n",
       "      <th>...</th>\n",
       "      <td>...</td>\n",
       "      <td>...</td>\n",
       "      <td>...</td>\n",
       "      <td>...</td>\n",
       "      <td>...</td>\n",
       "      <td>...</td>\n",
       "      <td>...</td>\n",
       "    </tr>\n",
       "    <tr>\n",
       "      <th>300</th>\n",
       "      <td>ZBRA</td>\n",
       "      <td>ZBRA</td>\n",
       "      <td>United States</td>\n",
       "      <td>S&amp;P 500</td>\n",
       "      <td>Computer hardware</td>\n",
       "      <td>26687690752</td>\n",
       "      <td>594.770020</td>\n",
       "    </tr>\n",
       "    <tr>\n",
       "      <th>301</th>\n",
       "      <td>ADS</td>\n",
       "      <td>ADS.F</td>\n",
       "      <td>Germany</td>\n",
       "      <td>DAX, EURO STOXX 50</td>\n",
       "      <td>Cyclical Consumer Products, Footwear, Textiles...</td>\n",
       "      <td>51233796096</td>\n",
       "      <td>335.049988</td>\n",
       "    </tr>\n",
       "    <tr>\n",
       "      <th>302</th>\n",
       "      <td>EBAY</td>\n",
       "      <td>EBAY</td>\n",
       "      <td>United States</td>\n",
       "      <td>NASDAQ 100, S&amp;P 500</td>\n",
       "      <td>Technology, Software &amp; IT Services, Internet S...</td>\n",
       "      <td>48786706432</td>\n",
       "      <td>77.720001</td>\n",
       "    </tr>\n",
       "    <tr>\n",
       "      <th>303</th>\n",
       "      <td>LULU</td>\n",
       "      <td>LULU</td>\n",
       "      <td>Canada</td>\n",
       "      <td>NASDAQ 100</td>\n",
       "      <td>Retail</td>\n",
       "      <td>53766905856</td>\n",
       "      <td>437.320007</td>\n",
       "    </tr>\n",
       "    <tr>\n",
       "      <th>304</th>\n",
       "      <td>CRM</td>\n",
       "      <td>CRM</td>\n",
       "      <td>United States</td>\n",
       "      <td>DOW JONES, S&amp;P 100, S&amp;P 500</td>\n",
       "      <td>Technology, Software &amp; IT Services, IT Service...</td>\n",
       "      <td>266757931008</td>\n",
       "      <td>286.359985</td>\n",
       "    </tr>\n",
       "  </tbody>\n",
       "</table>\n",
       "<p>305 rows × 7 columns</p>\n",
       "</div>"
      ],
      "text/plain": [
       "    Symbol Yahoo Symbol        Country                         Indices  \\\n",
       "0      MMM        MMM.F  United States     DOW JONES, S&P 100, S&P 500   \n",
       "1      AOS          AOS  United States                         S&P 500   \n",
       "2      AME          AME  United States                         S&P 500   \n",
       "3     ANSS         ANSS  United States             NASDAQ 100, S&P 500   \n",
       "4     ASML         ASML    Netherlands  AEX, EURO STOXX 50, NASDAQ 100   \n",
       "..     ...          ...            ...                             ...   \n",
       "300   ZBRA         ZBRA  United States                         S&P 500   \n",
       "301    ADS        ADS.F        Germany              DAX, EURO STOXX 50   \n",
       "302   EBAY         EBAY  United States             NASDAQ 100, S&P 500   \n",
       "303   LULU         LULU         Canada                      NASDAQ 100   \n",
       "304    CRM          CRM  United States     DOW JONES, S&P 100, S&P 500   \n",
       "\n",
       "                                            Industries    Market Cap  \\\n",
       "0                Industrials, Industrial Conglomerates   88588066816   \n",
       "1    Industrial Goods, Industrials, Machinery, Equi...   10306088960   \n",
       "2    Industrial Goods, Industrials, Machinery, Equi...   29139671040   \n",
       "3         Software, Technology, Software & IT Services   30125694976   \n",
       "4    Semiconductor Equipment & Testing, Technology,...  304167682048   \n",
       "..                                                 ...           ...   \n",
       "300                                  Computer hardware   26687690752   \n",
       "301  Cyclical Consumer Products, Footwear, Textiles...   51233796096   \n",
       "302  Technology, Software & IT Services, Internet S...   48786706432   \n",
       "303                                             Retail   53766905856   \n",
       "304  Technology, Software & IT Services, IT Service...  266757931008   \n",
       "\n",
       "     Market Cap (USD)  \n",
       "0          170.924903  \n",
       "1           73.809998  \n",
       "2          139.885179  \n",
       "3          413.190002  \n",
       "4          895.929993  \n",
       "..                ...  \n",
       "300        594.770020  \n",
       "301        335.049988  \n",
       "302         77.720001  \n",
       "303        437.320007  \n",
       "304        286.359985  \n",
       "\n",
       "[305 rows x 7 columns]"
      ]
     },
     "execution_count": 97,
     "metadata": {},
     "output_type": "execute_result"
    }
   ],
   "source": [
    "source_df = excel_df[['Symbol','Yahoo Symbol','Country','Indices','Industries','Market Cap','Market Cap (USD)']]\n",
    "source_df"
   ]
  },
  {
   "cell_type": "markdown",
   "metadata": {},
   "source": [
    "## Data visualization"
   ]
  },
  {
   "cell_type": "code",
   "execution_count": 98,
   "metadata": {},
   "outputs": [],
   "source": [
    "def get_color_palette(cmap, src):  \n",
    "    norm = matplotlib.colors.Normalize(vmin=min(src), vmax=max(src))\n",
    "    return [cmap(norm(value)) for value in src]    "
   ]
  },
  {
   "cell_type": "markdown",
   "metadata": {},
   "source": [
    "### By Country"
   ]
  },
  {
   "cell_type": "code",
   "execution_count": 99,
   "metadata": {},
   "outputs": [],
   "source": [
    "gb_country = source_df.groupby(by='Country')"
   ]
  },
  {
   "cell_type": "code",
   "execution_count": 100,
   "metadata": {
    "tags": []
   },
   "outputs": [],
   "source": [
    "# Defining sizes, labels and colors\n",
    "countries = [key for (key,group) in gb_country]\n",
    "stock_count = [len(group) for (key,group) in gb_country]\n",
    "colors = get_color_palette(matplotlib.cm.RdYlGn,stock_count)"
   ]
  },
  {
   "cell_type": "code",
   "execution_count": 101,
   "metadata": {},
   "outputs": [
    {
     "data": {
      "image/png": "[encoded data removed]",
      "text/plain": [
       "<Figure size 1440x720 with 1 Axes>"
      ]
     },
     "metadata": {},
     "output_type": "display_data"
    }
   ],
   "source": [
    "plt.subplots(figsize=(20,10))\n",
    "squarify.plot(sizes=stock_count, label=countries, color=colors, pad=True, alpha=0.42)\n",
    "plt.title(f'COUNTRIES BY STOCKS COUNT', size=20)\n",
    "plt.axis('off')\n",
    "plt.savefig(f\"../images/COUNTRIES.png\", bbox_inches='tight')\n",
    "plt.show()"
   ]
  },
  {
   "cell_type": "markdown",
   "metadata": {},
   "source": [
    "## By indice"
   ]
  },
  {
   "cell_type": "code",
   "execution_count": 102,
   "metadata": {},
   "outputs": [
    {
     "data": {
      "text/plain": [
       "array(['AEX', 'DAX', 'DOW JONES', 'EURO STOXX 50', 'FTSE 100', 'IBEX 35',\n",
       "       'NASDAQ 100', 'S&P 100', 'S&P 500', 'TECDAX'], dtype='<U13')"
      ]
     },
     "execution_count": 102,
     "metadata": {},
     "output_type": "execute_result"
    }
   ],
   "source": [
    "indices = np.unique(', '.join(source_df['Indices']).split(', '))\n",
    "indices"
   ]
  },
  {
   "cell_type": "code",
   "execution_count": 103,
   "metadata": {},
   "outputs": [],
   "source": [
    "def plot_by_indice(indice):\n",
    "    indice_df = excel_df[source_df['Indices'].str.contains(indice)].copy()\n",
    "    indice_df.sort_values(by='Market Cap (USD)', inplace=True, ascending=False)\n",
    "    colors = get_color_palette(matplotlib.cm.YlGn,indice_df['Market Cap (USD)'])\n",
    "\n",
    "    plt.clf()\n",
    "    plt.subplots(figsize=(20,10), )\n",
    "    squarify.plot(sizes=indice_df['Market Cap (USD)'], label=indice_df['Yahoo Symbol'], color=colors, pad=True, alpha=0.8, text_kwargs={'color':'#000', 'size':16})\n",
    "    plt.title(f'{indice} INDEX STOCKS', size=20)\n",
    "    plt.axis('off')\n",
    "    plt.savefig(f\"../images/{indice}.png\", bbox_inches='tight')\n",
    "    plt.show()\n",
    "    plt.close()"
   ]
  },
  {
   "cell_type": "code",
   "execution_count": 104,
   "metadata": {},
   "outputs": [
    {
     "data": {
      "text/plain": [
       "<Figure size 432x288 with 0 Axes>"
      ]
     },
     "metadata": {},
     "output_type": "display_data"
    },
    {
     "data": {
      "image/png": "[encoded data removed]",
      "text/plain": [
       "<Figure size 1440x720 with 1 Axes>"
      ]
     },
     "metadata": {},
     "output_type": "display_data"
    },
    {
     "data": {
      "text/plain": [
       "<Figure size 432x288 with 0 Axes>"
      ]
     },
     "metadata": {},
     "output_type": "display_data"
    },
    {
     "data": {
      "image/png": "[encoded data removed]",
      "text/plain": [
       "<Figure size 1440x720 with 1 Axes>"
      ]
     },
     "metadata": {},
     "output_type": "display_data"
    },
    {
     "data": {
      "text/plain": [
       "<Figure size 432x288 with 0 Axes>"
      ]
     },
     "metadata": {},
     "output_type": "display_data"
    },
    {
     "data": {
      "image/png": "[encoded data removed]",
      "text/plain": [
       "<Figure size 1440x720 with 1 Axes>"
      ]
     },
     "metadata": {},
     "output_type": "display_data"
    },
    {
     "data": {
      "text/plain": [
       "<Figure size 432x288 with 0 Axes>"
      ]
     },
     "metadata": {},
     "output_type": "display_data"
    },
    {
     "data": {
      "image/png": "[encoded data removed]",
      "text/plain": [
       "<Figure size 1440x720 with 1 Axes>"
      ]
     },
     "metadata": {},
     "output_type": "display_data"
    },
    {
     "data": {
      "text/plain": [
       "<Figure size 432x288 with 0 Axes>"
      ]
     },
     "metadata": {},
     "output_type": "display_data"
    },
    {
     "data": {
      "image/png": "[encoded data removed]",
      "text/plain": [
       "<Figure size 1440x720 with 1 Axes>"
      ]
     },
     "metadata": {},
     "output_type": "display_data"
    },
    {
     "data": {
      "text/plain": [
       "<Figure size 432x288 with 0 Axes>"
      ]
     },
     "metadata": {},
     "output_type": "display_data"
    },
    {
     "data": {
      "image/png": "[encoded data removed]",
      "text/plain": [
       "<Figure size 1440x720 with 1 Axes>"
      ]
     },
     "metadata": {},
     "output_type": "display_data"
    },
    {
     "data": {
      "text/plain": [
       "<Figure size 432x288 with 0 Axes>"
      ]
     },
     "metadata": {},
     "output_type": "display_data"
    },
    {
     "data": {
      "image/png": "[encoded data removed]",
      "text/plain": [
       "<Figure size 1440x720 with 1 Axes>"
      ]
     },
     "metadata": {},
     "output_type": "display_data"
    },
    {
     "data": {
      "text/plain": [
       "<Figure size 432x288 with 0 Axes>"
      ]
     },
     "metadata": {},
     "output_type": "display_data"
    },
    {
     "data": {
      "image/png": "[encoded data removed]",
      "text/plain": [
       "<Figure size 1440x720 with 1 Axes>"
      ]
     },
     "metadata": {},
     "output_type": "display_data"
    },
    {
     "data": {
      "text/plain": [
       "<Figure size 432x288 with 0 Axes>"
      ]
     },
     "metadata": {},
     "output_type": "display_data"
    },
    {
     "data": {
      "image/png": "[encoded data removed]",
      "text/plain": [
       "<Figure size 1440x720 with 1 Axes>"
      ]
     },
     "metadata": {},
     "output_type": "display_data"
    },
    {
     "data": {
      "text/plain": [
       "<Figure size 432x288 with 0 Axes>"
      ]
     },
     "metadata": {},
     "output_type": "display_data"
    },
    {
     "data": {
      "image/png": "[encoded data removed]",
      "text/plain": [
       "<Figure size 1440x720 with 1 Axes>"
      ]
     },
     "metadata": {},
     "output_type": "display_data"
    }
   ],
   "source": [
    "for indice in indices:\n",
    "    plot_by_indice(indice)"
   ]
  },
  {
   "cell_type": "markdown",
   "metadata": {},
   "source": [
    "## By industry"
   ]
  },
  {
   "cell_type": "code",
   "execution_count": 105,
   "metadata": {},
   "outputs": [
    {
     "data": {
      "text/plain": [
       "array(['Advertising & Marketing', 'Aerospace & Defense',\n",
       "       'Aerospace industry', 'Agricultural Chemicals',\n",
       "       'Air Freight & Courier Services', 'Apparel & Accessories',\n",
       "       'Apparel & Accessories Retailers', 'Appliances',\n",
       "       'Applied Resources', 'Auto', 'Auto & Truck Manufacturers',\n",
       "       'Auto Vehicles', 'Automobiles & Auto Parts', 'Automotive',\n",
       "       'Automotive industry', 'Basic Materials', 'Beverage', 'Beverages',\n",
       "       'Biotechnology', 'Broadcasting', 'Building materials',\n",
       "       'Business Support Services', 'Chemicals', 'Commodity Chemicals',\n",
       "       'Communications & Networking', 'Computer & Electronics Retailers',\n",
       "       'Computer Hardware', 'Computer hardware', 'Computers',\n",
       "       'Conglomerate', 'Construction & Engineering',\n",
       "       'Construction Materials', 'Construction Supplies & Fixtures',\n",
       "       'Consumer Cyclicals', 'Consumer Non-Cyclicals',\n",
       "       'Consumer Publishing', 'Containers & Packaging',\n",
       "       'Cyclical Consumer Products', 'Cyclical Consumer Services',\n",
       "       'Defence industry', 'Defense industry', 'Department Stores',\n",
       "       'Discount Stores', 'Distillers & Wineries',\n",
       "       'Diversified Chemicals', 'Diversified Retail',\n",
       "       'Diversified Trading & Distributing', 'Drug Retailers',\n",
       "       'Electric Utilities', 'Electric Utilities & IPPs',\n",
       "       'Electrical Components & Equipment',\n",
       "       'Electronic Equipments & Parts', 'Employment Services', 'Energy',\n",
       "       'Enterprise Asset Management', 'Enterprise Solutions',\n",
       "       'Enterprise software', 'Environmental Services & Equipment',\n",
       "       'Equipment & Components', 'Fishing & Farming', 'Food & Beverages',\n",
       "       'Food & Drug Retailing', 'Food & Tobacco', 'Food Processing',\n",
       "       'Food Retail & Distribution', 'Food delivery', 'Footwear',\n",
       "       'Franchising', 'Freight & Logistics Services',\n",
       "       'Ground Freight & Logistics', 'HCM', 'Heavy Machinery & Vehicles',\n",
       "       'Home Furnishings',\n",
       "       'Home Improvement Products & Services Retailers',\n",
       "       'Home construction', 'Homebuilding',\n",
       "       'Homebuilding / Household Goods', 'Hotels',\n",
       "       'Hotels & Entertainment Services', 'Household Goods',\n",
       "       'Household Products', 'IT', 'IT Services & Consulting',\n",
       "       'Industrial & Commercial Services', 'Industrial Conglomerates',\n",
       "       'Industrial Goods', 'Industrial Machinery & Equipment',\n",
       "       'Industrials', 'Integrated Telecommunications Services',\n",
       "       'Internet Services', 'Leisure & Recreation', 'Leisure Products',\n",
       "       'Machinery', 'Manufacturing', 'Manufacturing Execution System',\n",
       "       'Media & Publishing', 'Mineral Resources', 'Motels & Cruise Lines',\n",
       "       'Multiline Utilities', 'Natural Gas Utilities',\n",
       "       'Non-Alcoholic Beverages', 'Non-Paper Containers & Packaging',\n",
       "       'Office Equipment', 'Online dating service',\n",
       "       'Other Specialty Retailers', 'Packaging', 'Paper Packaging',\n",
       "       'Parts & Service Retailers',\n",
       "       'Personal & Household Products & Services', 'Personal Products',\n",
       "       'Pharmaceuticals', 'Phones & Handheld Devices',\n",
       "       'Phones & Household Electronics',\n",
       "       'Professional & Commercial Services',\n",
       "       'Professional Information Services', 'Restaurants',\n",
       "       'Restaurants & Bars', 'Retail', 'Retailers',\n",
       "       'Semiconductor Equipment & Testing', 'Semiconductors',\n",
       "       'Semiconductors & Semiconductor Equipment', 'Software',\n",
       "       'Software & IT Services', 'Specialty Chemicals',\n",
       "       'Specialty Retailers', 'Sportswear', 'Technology',\n",
       "       'Technology Equipment', 'Telecommunications Services',\n",
       "       'Textiles & Apparel', 'Tobacco', 'Toiletries',\n",
       "       'Tools & Housewares', 'Toys & Juvenile Products', 'Transportation',\n",
       "       'Truck & Motorcycle Parts', 'Utilities', 'Water',\n",
       "       'Water Utilities', 'Wireless Telecommunications Services',\n",
       "       'pharmaceutical', 'utilities', 'waste'], dtype='<U46')"
      ]
     },
     "execution_count": 105,
     "metadata": {},
     "output_type": "execute_result"
    }
   ],
   "source": [
    "industries = np.unique(', '.join(source_df['Industries']).split(', '))\n",
    "industries"
   ]
  },
  {
   "cell_type": "code",
   "execution_count": 106,
   "metadata": {},
   "outputs": [],
   "source": [
    "industries_to_plot = []\n",
    "\n",
    "for industry in industries:\n",
    "    industry_df = source_df[source_df['Industries'].str.contains(industry)].copy()\n",
    "    industries_to_plot.append((industry,industry_df,len(industry_df)))\n",
    "\n",
    "industries_to_plot = sorted(industries_to_plot, key=lambda x: x[2], reverse=True)"
   ]
  },
  {
   "cell_type": "code",
   "execution_count": 107,
   "metadata": {},
   "outputs": [],
   "source": [
    "map_df = pd.DataFrame(columns=['Yahoo Symbol','Industry'])\n",
    "\n",
    "for industry_to_plot in industries_to_plot:\n",
    "    valid = True    \n",
    "\n",
    "    for industry_to_compare in industries_to_plot:\n",
    "        if (industry_to_plot[1] is industry_to_compare[1]):\n",
    "            continue\n",
    "\n",
    "        valid = not all(elem in list(industry_to_compare[1]['Yahoo Symbol']) for elem in list(industry_to_plot[1]['Yahoo Symbol']))\n",
    "        \n",
    "        if(not valid):\n",
    "            break\n",
    "\n",
    "    if(valid):\n",
    "        industry_to_plot[1]['Industry'] = industry_to_plot[0]\n",
    "        map_df = map_df.append(industry_to_plot[1][['Yahoo Symbol','Industry']], ignore_index=True)\n",
    "\n",
    "map_df = map_df[~map_df['Yahoo Symbol'].duplicated(keep='last')].reset_index(drop=True)\n",
    "map_df = map_df.join(excel_df[['Company','Symbol','Yahoo Symbol','Description','Country','Currency','Market Cap','Market Cap (USD)','Long Score','Short Score']].set_index('Yahoo Symbol'), on='Yahoo Symbol')\n",
    "map_df = map_df.sort_values(['Country', 'Market Cap (USD)'], ascending=[False, False])\n",
    "map_df = map_df[['Industry','Company','Symbol','Yahoo Symbol','Description','Country','Currency','Market Cap','Market Cap (USD)','Long Score','Short Score']]"
   ]
  },
  {
   "cell_type": "code",
   "execution_count": 108,
   "metadata": {},
   "outputs": [],
   "source": [
    "map_df.to_csv(\"../files/market_stock_treemap_plotting.csv\", index=False, float_format='%f')"
   ]
  },
  {
   "cell_type": "code",
   "execution_count": 109,
   "metadata": {},
   "outputs": [
    {
     "data": {
      "application/vnd.plotly.v1+json": {
       "config": {
        "plotlyServerURL": "https://plot.ly"
       },
       "data": [
        {
         "branchvalues": "total",
         "customdata": [
          [
           "Advance Auto Parts Inc.",
           "AAP",
           "United States",
           220.1199951171875
          ],
          [
           "Apple Inc.",
           "AAPL",
           "United States",
           157.2599945068359
          ],
          [
           "Accenture PLC",
           "ACN",
           "Ireland",
           345.5199890136719
          ],
          [
           "Koninklijke Ahold Delhaize N.V.",
           "AD.AS",
           "Netherlands",
           29.45499992370605
          ],
          [
           "Adobe Inc.",
           "ADBE",
           "United States",
           673.8800048828125
          ],
          [
           "Analog Devices Inc.",
           "ADI",
           "United States",
           178.8399963378906
          ],
          [
           "Archer-Daniels-Midland Company",
           "ADM.F",
           "United States",
           56.66210556030273
          ],
          [
           "Automatic Data Processing Inc.",
           "ADP.F",
           "United States",
           183.2567138671875
          ],
          [
           "adidas AG",
           "ADS.F",
           "Germany",
           335.0499877929688
          ],
          [
           "Autodesk Inc.",
           "ADSK",
           "United States",
           344.3900146484375
          ],
          [
           "Ameren Corporation",
           "AEE",
           "United States",
           90.20339349074824
          ],
          [
           "American Electric Power Company Inc.",
           "AEP.F",
           "United States",
           77.66999816894531
          ],
          [
           "Ashtead Group PLC",
           "AHT.F",
           "United Kingdom",
           79.5
          ],
          [
           "Akamai Technologies Inc.",
           "AKAM",
           "United States",
           124.9100036621094
          ],
          [
           "Albemarle Corporation",
           "ALB",
           "United States",
           252.6781438554638
          ],
          [
           "Allegion PLC",
           "ALLE",
           "Ireland",
           148.316431339924
          ],
          [
           "Applied Materials Inc.",
           "AMAT",
           "United States",
           145.4790366856268
          ],
          [
           "Amcor plc",
           "AMCR",
           "Switzerland",
           12.800275797728888
          ],
          [
           "Advanced Micro Devices Inc.",
           "AMD.F",
           "United States",
           103.2200012207031
          ],
          [
           "AMETEK Inc.",
           "AME",
           "United States",
           139.8851788182893
          ],
          [
           "Amazon.com Inc.",
           "AMZN",
           "United States",
           3773.080078125
          ],
          [
           "Arista Networks Inc.",
           "ANET",
           "United States",
           384
          ],
          [
           "ANSYS Inc.",
           "ANSS",
           "United States",
           413.1900024414062
          ],
          [
           "A. O. Smith Corporation",
           "AOS",
           "United States",
           73.80999755859375
          ],
          [
           "Air Products and Chemicals Inc.",
           "APD",
           "United States",
           320.9879704696212
          ],
          [
           "Amphenol Corporation",
           "APH",
           "United States",
           77.69000244140625
          ],
          [
           "Aptiv PLC",
           "APTV",
           "United States",
           170.4700012207031
          ],
          [
           "ASML Holding N.V.",
           "ASML",
           "Netherlands",
           895.9299926757812
          ],
          [
           "Atmos Energy Corporation",
           "ATO",
           "United States",
           103.66159474691828
          ],
          [
           "Activision Blizzard Inc.",
           "ATVI",
           "United States",
           104.0263170383795
          ],
          [
           "Broadcom Inc.",
           "AVGO",
           "United States",
           510.7000122070312
          ],
          [
           "AVEVA Group plc",
           "AVV.L",
           "United Kingdom",
           4242
          ],
          [
           "Avery Dennison Corporation",
           "AVY",
           "United States",
           228.1932308544546
          ],
          [
           "American Water Works Company Inc.",
           "AWK",
           "United States",
           189.35000610351562
          ],
          [
           "AutoZone Inc.",
           "AZO",
           "United States",
           1738.780029296875
          ],
          [
           "Best Buy Co. Inc.",
           "BBY",
           "United States",
           126.9721255028175
          ],
          [
           "Baidu Inc.",
           "BIDU",
           "China",
           354.8200073242188
          ],
          [
           "Berkeley Group Holdings/The",
           "BKG.F",
           "United Kingdom",
           0.5400000214576721
          ],
          [
           "Booking Holdings Inc.",
           "BKNG",
           "United States",
           2540
          ],
          [
           "Ball Corporation",
           "BLL",
           "United States",
           102.0220689482459
          ],
          [
           "Bayerische Motoren Werke AG",
           "BMW.F",
           "Germany",
           96.2699966430664
          ],
          [
           "Bunzl PLC",
           "BNZL.L",
           "United Kingdom",
           2708
          ],
          [
           "Broadridge Financial Solutions Inc.",
           "BR",
           "United States",
           176.4942647385575
          ],
          [
           "Burberry Group PLC",
           "BRBY.L",
           "United Kingdom",
           2220.365133680556
          ],
          [
           "BorgWarner Inc.",
           "BWA",
           "United States",
           55.330178508372924
          ],
          [
           "Conagra Brands Inc.",
           "CAG",
           "United States",
           38.72524295354024
          ],
          [
           "Cardinal Health Inc.",
           "CAH",
           "United States",
           61.34543495610958
          ],
          [
           "Caterpillar Inc.",
           "CAT",
           "United States",
           245.3732144484381
          ],
          [
           "Coca-Cola HBC AG",
           "CCH.L",
           "Switzerland",
           2809.594970703125
          ],
          [
           "Cadence Design Systems Inc.",
           "CDNS",
           "United States",
           168.6100006103516
          ],
          [
           "CDW Corporation",
           "CDW",
           "United States",
           203.8200073242188
          ],
          [
           "Celanese Corporation",
           "CE",
           "United States",
           170.2189719317673
          ],
          [
           "CF Industries Holdings Inc.",
           "CF",
           "United States",
           62.06000137329102
          ],
          [
           "Church & Dwight Co. Inc.",
           "CHD",
           "United States",
           95.18956217122933
          ],
          [
           "Check Point Software Technologies Ltd.",
           "CHKP",
           "Israel",
           139.2599945068359
          ],
          [
           "C.H. Robinson Worldwide Inc.",
           "CHRW",
           "United States",
           104.5645040851852
          ],
          [
           "Charter Communications Inc.",
           "CHTR",
           "United States",
           825.6199951171875
          ],
          [
           "Colgate-Palmolive Company",
           "CL",
           "United States",
           84.99137242335121
          ],
          [
           "The Clorox Company",
           "CLX",
           "United States",
           228.3237044787723
          ],
          [
           "Comcast Corporation",
           "CMCSA",
           "United States",
           61.52789942391084
          ],
          [
           "Chipotle Mexican Grill Inc.",
           "CMG",
           "United States",
           1958.550048828125
          ],
          [
           "Cummins Inc.",
           "CMI",
           "United States",
           273.9359021228876
          ],
          [
           "CMS Energy Corporation",
           "CMS",
           "United States",
           66.54515519685368
          ],
          [
           "Costco Wholesale Corporation",
           "COST",
           "United States",
           470.489990234375
          ],
          [
           "Campbell Soup Company",
           "CPB",
           "United States",
           52.47904429371933
          ],
          [
           "Copart Inc.",
           "CPRT",
           "United States",
           152.75
          ],
          [
           "Croda International PLC",
           "CRDA.L",
           "United Kingdom",
           9313.665811086134
          ],
          [
           "CRH PLC",
           "CRH",
           "Ireland",
           53.74850496045736
          ],
          [
           "salesforce.com Inc.",
           "CRM",
           "United States",
           286.3599853515625
          ],
          [
           "Cisco Systems Inc.",
           "CSCO",
           "United States",
           59.86557647720763
          ],
          [
           "CSX Corporation",
           "CSX",
           "United States",
           34.76230308348569
          ],
          [
           "Cintas Corporation",
           "CTAS",
           "United States",
           409.7999877929688
          ],
          [
           "Cognizant Technology Solutions Corporation",
           "CTSH",
           "United States",
           82.03317795511214
          ],
          [
           "Citrix Systems Inc.",
           "CTXS",
           "United States",
           145.6766008187515
          ],
          [
           "Dominion Energy Inc.",
           "D",
           "United States",
           84.10526567551878
          ],
          [
           "Daimler AG",
           "DAI.F",
           "Germany",
           81.06999969482422
          ],
          [
           "Deere & Company",
           "DE",
           "United States",
           398.125630282092
          ],
          [
           "Dollar General Corporation",
           "DG",
           "United States",
           238.8694974279888
          ],
          [
           "Diageo PLC",
           "DGE.L",
           "United Kingdom",
           3666
          ],
          [
           "D.R. Horton Inc.",
           "DHI",
           "United States",
           106.6642576472281
          ],
          [
           "The Walt Disney Company",
           "DIS",
           "United States",
           203.02000427246088
          ],
          [
           "Discovery Inc.",
           "DISCA",
           "United States",
           78.13999938964844
          ],
          [
           "DISH Network Corporation",
           "DISH",
           "United States",
           47.04999923706055
          ],
          [
           "Dollar Tree Inc.",
           "DLTR",
           "United States",
           120.370002746582
          ],
          [
           "Dover Corporation",
           "DOV.F",
           "United States",
           148.5500030517578
          ],
          [
           "Dow Inc.",
           "DOW",
           "United States",
           70.37832972217424
          ],
          [
           "Deutsche Post AG",
           "DPW.F",
           "Germany",
           61.27999877929688
          ],
          [
           "Domino's Pizza, Inc.",
           "DPZ",
           "United States",
           547.7107964624554
          ],
          [
           "DTE Energy Company",
           "DTE",
           "United States",
           121.9102732567676
          ],
          [
           "Duke Energy Corporation",
           "DUK",
           "United States",
           108.379997253418
          ],
          [
           "Electronic Arts Inc.",
           "EA",
           "United States",
           149.7574363868646
          ],
          [
           "eBay Inc.",
           "EBAY",
           "United States",
           77.72000122070312
          ],
          [
           "Equifax Inc.",
           "EFX.F",
           "United States",
           236
          ],
          [
           "Edison International",
           "EIX.F",
           "United States",
           52.60030364990234
          ],
          [
           "Eastman Chemical Company",
           "EMN",
           "United States",
           128.9392957933663
          ],
          [
           "Emerson Electric Co.",
           "EMR.F",
           "United States",
           89.33999633789062
          ],
          [
           "E.ON SE",
           "EOAN.F",
           "Germany",
           11.39799976348877
          ],
          [
           "Eversource Energy",
           "ES",
           "United States",
           93.95789635895133
          ],
          [
           "Eaton Corporation PLC",
           "ETN",
           "Ireland",
           171.3200073242188
          ],
          [
           "Entergy Corporation",
           "ETR",
           "United States",
           115.0199966430664
          ],
          [
           "Evergy Inc.",
           "EVRG",
           "United States",
           69.44999694824219
          ],
          [
           "Exelon Corporation",
           "EXC",
           "United States",
           50.9900016784668
          ],
          [
           "Expeditors International of Washington Inc.",
           "EXPD",
           "United States",
           130.7599945068359
          ],
          [
           "Experian PLC",
           "EXPN.L",
           "Ireland",
           3439.489990234375
          ],
          [
           "Ford Motor Company",
           "F",
           "United States",
           16.45000076293945
          ],
          [
           "Fastenal Company",
           "FAST",
           "United States",
           56.38999938964844
          ],
          [
           "Facebook Inc.",
           "FB",
           "United States",
           384.3299865722656
          ],
          [
           "Fortune Brands Home & Security Inc.",
           "FBHS",
           "United States",
           113.43975094496899
          ],
          [
           "FedEx Corporation",
           "FDX.F",
           "United States",
           258.7369884862475
          ],
          [
           "FirstEnergy Corp.",
           "FE",
           "United States",
           39.93999862670898
          ],
          [
           "Ferguson PLC",
           "FERG.L",
           "United Kingdom",
           10810
          ],
          [
           "F5 Networks Inc.",
           "FFIV",
           "United States",
           216.1499938964844
          ],
          [
           "Fiserv Inc.",
           "FISV",
           "United States",
           127.3399963378906
          ],
          [
           "Flowserve Corporation",
           "FLS",
           "United States",
           43.91820186796631
          ],
          [
           "FleetCor Technologies Inc.",
           "FLT",
           "United States",
           295.3599853515625
          ],
          [
           "FMC Corporation",
           "FMC",
           "United States",
           121.9697546054332
          ],
          [
           "Fox Corporation",
           "FOXA",
           "United States",
           44.79999923706055
          ],
          [
           "Fortinet Inc.",
           "FTNT",
           "United States",
           322
          ],
          [
           "Fortive Corporation",
           "FTV",
           "United States",
           76.51000213623047
          ],
          [
           "General Mills Inc.",
           "GIS",
           "United States",
           63.57782431545611
          ],
          [
           "Corning Inc.",
           "GLW.F",
           "United States",
           38.24878315371605
          ],
          [
           "General Motors Company",
           "GM",
           "United States",
           64.30000305175781
          ],
          [
           "Alphabet Inc.",
           "GOOGL",
           "United States",
           2925.080078125
          ],
          [
           "Genuine Parts Company",
           "GPC",
           "United States",
           134.187803628064
          ],
          [
           "Global Payments Inc.",
           "GPN",
           "United States",
           220.2613224546479
          ],
          [
           "The Gap Inc.",
           "GPS",
           "United States",
           37.30647027957006
          ],
          [
           "Garmin Ltd.",
           "GRMN",
           "Switzerland",
           178.8099975585938
          ],
          [
           "Hasbro Inc.",
           "HAS.F",
           "United States",
           87.28643439797794
          ],
          [
           "The Home Depot Inc.",
           "HD",
           "United States",
           343.739990234375
          ],
          [
           "Huntington Ingalls Industries Inc.",
           "HII",
           "United States",
           222.8909983208418
          ],
          [
           "Halma PLC",
           "HLMA.L",
           "United Kingdom",
           3184
          ],
          [
           "Honeywell International Inc.",
           "HON",
           "United States",
           235.9193639812007
          ],
          [
           "Hewlett Packard Enterprise Company",
           "HPE",
           "United States",
           16.47623418961718
          ],
          [
           "HP Inc.",
           "HPQ",
           "United States",
           35.53945468334442
          ],
          [
           "Hormel Foods Corporation",
           "HRL",
           "United States",
           51.69104003906249
          ],
          [
           "The Hershey Company",
           "HSY.F",
           "United States",
           155.9499969482422
          ],
          [
           "Iberdrola SA",
           "IBE.MC",
           "Spain",
           12.10725393473305
          ],
          [
           "International Business Machines Corporation",
           "IBM.F",
           "United States",
           125.5999984741211
          ],
          [
           "IDEX Corporation",
           "IEX",
           "United States",
           234.6129956566076
          ],
          [
           "Imperial Brands PLC",
           "IMB.L",
           "United Kingdom",
           1642.724582685792
          ],
          [
           "IHS Markit Ltd.",
           "INFO",
           "United Kingdom",
           125.2300033569336
          ],
          [
           "Intel Corporation",
           "INTC",
           "United States",
           67.6312586068142
          ],
          [
           "Intuit Inc.",
           "INTU",
           "United States",
           582.2185071355992
          ],
          [
           "The Interpublic Group of Companies Inc.",
           "IPG.F",
           "United States",
           33.20000076293945
          ],
          [
           "IPG Photonics Corporation",
           "IPGP",
           "United States",
           262.5499877929688
          ],
          [
           "Gartner Inc.",
           "IT",
           "United States",
           327.2000122070312
          ],
          [
           "Intertek Group PLC",
           "ITRK.L",
           "United Kingdom",
           6186.448995955868
          ],
          [
           "Illinois Tool Works Inc.",
           "ITW",
           "United States",
           239.4677182349764
          ],
          [
           "J.B. Hunt Transport Services Inc.",
           "JBHT",
           "United States",
           184.3800048828125
          ],
          [
           "Johnson Controls International PLC",
           "JCI",
           "Ireland",
           76.54997812816468
          ],
          [
           "JD.com Inc.",
           "JD",
           "China",
           108.2900009155273
          ],
          [
           "Jack Henry & Associates Inc.",
           "JKHY",
           "United States",
           179.9799957275391
          ],
          [
           "Johnson Matthey PLC",
           "JMAT.L",
           "United Kingdom",
           3309.534152717185
          ],
          [
           "Juniper Networks Inc.",
           "JNPR",
           "United States",
           29.56775873767775
          ],
          [
           "Kellogg Company",
           "K",
           "United States",
           67.3685379013038
          ],
          [
           "Keurig Dr Pepper Inc.",
           "KDP",
           "United States",
           36.71275011467282
          ],
          [
           "Keysight Technologies Inc.",
           "KEYS",
           "United States",
           182.49000549316406
          ],
          [
           "Kingfisher PLC",
           "KGF.L",
           "United Kingdom",
           376.0957730356253
          ],
          [
           "The Kraft Heinz Company",
           "KHC",
           "United States",
           44.0497490736097
          ],
          [
           "KLA-Tencor Corporation",
           "KLAC",
           "United States",
           374.6000061035156
          ],
          [
           "Kimberly-Clark Corporation",
           "KMB",
           "United States",
           150.3460746432714
          ],
          [
           "CarMax Inc.",
           "KMX",
           "United States",
           147.7299957275391
          ],
          [
           "The Coca-Cola Company",
           "KO",
           "United States",
           57.12884209459499
          ],
          [
           "The Kroger Co.",
           "KR",
           "United States",
           47.9900016784668
          ],
          [
           "Kansas City Southern",
           "KSU",
           "United States",
           314.212422011428
          ],
          [
           "Leggett & Platt Inc.",
           "LEG",
           "United States",
           58.18387754000717
          ],
          [
           "Lennar Corporation",
           "LEN",
           "United States",
           110.33167255785109
          ],
          [
           "Linde PLC",
           "LIN.F",
           "United Kingdom",
           271.3999938964844
          ],
          [
           "LKQ Corporation",
           "LKQ",
           "United States",
           53.16999816894531
          ],
          [
           "Alliant Energy Corporation",
           "LNT",
           "United States",
           62.34999847412109
          ],
          [
           "Lowe's Companies Inc.",
           "LOW",
           "United States",
           214.3274273768495
          ],
          [
           "Lam Research Corporation",
           "LRCX",
           "United States",
           670.8059959321304
          ],
          [
           "lululemon athletica inc.",
           "LULU",
           "Canada",
           437.3200073242188
          ],
          [
           "Lamb Weston Holdings Inc.",
           "LW",
           "United States",
           85.84217545508018
          ],
          [
           "LyondellBasell Industries N.V.",
           "LYB",
           "United States",
           116.5537386013663
          ],
          [
           "Mastercard Inc.",
           "MA",
           "United States",
           400.5214786597936
          ],
          [
           "Marriott International Inc.",
           "MAR",
           "United States",
           159.9799957275391
          ],
          [
           "Masco Corporation",
           "MAS",
           "United States",
           68.01760427371374
          ],
          [
           "McDonald's Corporation",
           "MCD",
           "United States",
           249.9499969482422
          ],
          [
           "Microchip Technology Inc.",
           "MCHP",
           "United States",
           166.1300048828125
          ],
          [
           "Mondelez International Inc.",
           "MDLZ",
           "United States",
           65.2088534460156
          ],
          [
           "Mohawk Industries Inc.",
           "MHK",
           "United States",
           231.8000030517578
          ],
          [
           "McCormick & Company Inc.",
           "MKC",
           "United States",
           100.0972758525555
          ],
          [
           "Martin Marietta Materials Inc.",
           "MLM",
           "United States",
           391.1356206546266
          ],
          [
           "3M Company",
           "MMM.F",
           "United States",
           170.9249025259469
          ],
          [
           "Monster Beverage Corporation",
           "MNST",
           "United States",
           99.88999938964844
          ],
          [
           "Altria Group Inc.",
           "MO",
           "United States",
           50.75231771971337
          ],
          [
           "The Mosaic Company",
           "MOS",
           "United States",
           40.56000137329102
          ],
          [
           "Moderna, Inc.",
           "MRNA",
           "United States",
           497.489990234375
          ],
          [
           "Wm Morrison Supermarkets PLC",
           "MRW.L",
           "United Kingdom",
           297
          ],
          [
           "MSCI Inc.",
           "MSCI",
           "United States",
           667.0700073242188
          ],
          [
           "Microsoft Corporation",
           "MSFT",
           "United States",
           305.8399963378906
          ],
          [
           "Motorola Solutions Inc.",
           "MSI",
           "United States",
           246.244680175323
          ],
          [
           "Match Group, Inc.",
           "MTCH",
           "United States",
           174.6799926757812
          ],
          [
           "Mettler-Toledo International Inc.",
           "MTD",
           "United States",
           1626.619995117188
          ],
          [
           "Micron Technology Inc.",
           "MU",
           "United States",
           96.82465626820449
          ],
          [
           "NextEra Energy Inc.",
           "NEE",
           "United States",
           86.97000122070312
          ],
          [
           "Netflix Inc.",
           "NFLX",
           "United States",
           646.8400268554688
          ],
          [
           "NiSource Inc.",
           "NI",
           "United States",
           26.37051004379596
          ],
          [
           "NIKE Inc.",
           "NKE.F",
           "United States",
           147.8131561279297
          ],
          [
           "Nielsen Holdings PLC",
           "NLSN",
           "United States",
           28.2835447597469
          ],
          [
           "Northrop Grumman Corporation",
           "NOC",
           "United States",
           390.94000244140614
          ],
          [
           "ServiceNow, Inc.",
           "NOW",
           "United States",
           681.0999755859375
          ],
          [
           "NRG Energy Inc.",
           "NRG",
           "United States",
           46.099998474121094
          ],
          [
           "NetApp Inc.",
           "NTAP",
           "United States",
           94.33000183105469
          ],
          [
           "NetEase Inc.",
           "NTES",
           "China",
           133.5507487673502
          ],
          [
           "NVIDIA Corporation",
           "NVDA",
           "United States",
           230.3893581177994
          ],
          [
           "NVR, Inc.",
           "NVR",
           "United States",
           5332.080078125
          ],
          [
           "Newell Brands Inc.",
           "NWL.F",
           "United States",
           23.509532928466797
          ],
          [
           "NXP Semiconductors N.V.",
           "NXPI",
           "Netherlands",
           228.1204293564423
          ],
          [
           "NEXT PLC",
           "NXT.L",
           "United Kingdom",
           8484
          ],
          [
           "Omnicom Group Inc.",
           "OMC",
           "United States",
           84.83576785604421
          ],
          [
           "Oracle Corporation",
           "ORCL",
           "United States",
           95.0199966430664
          ],
          [
           "O'Reilly Automotive Inc.",
           "ORLY",
           "United States",
           629.4000244140625
          ],
          [
           "Paycom Software, Inc.",
           "PAYC",
           "United States",
           521.8200073242188
          ],
          [
           "Paychex Inc.",
           "PAYX",
           "United States",
           119.379997253418
          ],
          [
           "PACCAR Inc",
           "PCAR",
           "United States",
           102.053489502999
          ],
          [
           "PepsiCo, Inc.",
           "PEP",
           "United States",
           159.6300048828125
          ],
          [
           "The Procter & Gamble Company",
           "PG",
           "United States",
           147.2299957275391
          ],
          [
           "PulteGroup Inc.",
           "PHM",
           "United States",
           63.56467963207814
          ],
          [
           "Packaging Corporation of America",
           "PKG",
           "United States",
           154.7529723671755
          ],
          [
           "Pennon Group plc",
           "PNN.L",
           "United Kingdom",
           1369.925587582944
          ],
          [
           "Pentair PLC",
           "PNR",
           "United Kingdom",
           80.4000015258789
          ],
          [
           "Pinnacle West Capital Corporation",
           "PNW",
           "United States",
           89.1082787084233
          ],
          [
           "PPG Industries Inc.",
           "PPG",
           "United States",
           182.3126682226149
          ],
          [
           "Persimmon PLC",
           "PSN.L",
           "United Kingdom",
           3152.465097245828
          ],
          [
           "Pearson PLC",
           "PSON.L",
           "United Kingdom",
           886.3466607727439
          ],
          [
           "PVH Corp.",
           "PVH.F",
           "United States",
           101.5999984741211
          ],
          [
           "Quanta Services Inc.",
           "PWR",
           "United States",
           119.6380015231984
          ],
          [
           "PayPal Holdings Inc.",
           "PYPL",
           "United States",
           310.1600036621094
          ],
          [
           "Qualcomm Inc.",
           "QCOM",
           "United States",
           165.5239713784734
          ],
          [
           "Qorvo Inc.",
           "QRVO",
           "United States",
           201.6799926757812
          ],
          [
           "RELX PLC",
           "REL.L",
           "United Kingdom",
           2246
          ],
          [
           "Robert Half International Inc.",
           "RHI",
           "United States",
           109.5400009155273
          ],
          [
           "Rightmove PLC",
           "RMV.L",
           "United Kingdom",
           764.4520356884684
          ],
          [
           "Rockwell Automation Inc.",
           "ROK",
           "United States",
           327.2000122070312
          ],
          [
           "Rollins Inc.",
           "ROL",
           "United States",
           42.72499579438661
          ],
          [
           "Roper Technologies Inc.",
           "ROP.F",
           "United States",
           424.3833927953406
          ],
          [
           "Ross Stores Inc.",
           "ROST",
           "United States",
           133.5735316610348
          ],
          [
           "Republic Services Inc.",
           "RSG",
           "United States",
           126.0400009155273
          ],
          [
           "Rentokil Initial PLC",
           "RTO.F",
           "United Kingdom",
           35.20000076293945
          ],
          [
           "SAP SE",
           "SAP.F",
           "Germany",
           133.0770407123981
          ],
          [
           "Starbucks Corporation",
           "SBUX",
           "United States",
           125.8316088374686
          ],
          [
           "Sealed Air Corporation",
           "SEE",
           "United States",
           61.83840793957814
          ],
          [
           "The Sage Group PLC",
           "SGE.L",
           "United Kingdom",
           760.2000122070312
          ],
          [
           "Seagen Inc.",
           "SGEN",
           "United States",
           213.9400024414062
          ],
          [
           "The Sherwin-Williams Company",
           "SHW",
           "United States",
           310.4299926757812
          ],
          [
           "Siemens AG",
           "SIE.F",
           "Germany",
           151.6199951171875
          ],
          [
           "Sirius XM Holdings Inc.",
           "SIRI",
           "United States",
           8.080758722920459
          ],
          [
           "The J. M. Smucker Company",
           "SJM",
           "United States",
           139.5894140430753
          ],
          [
           "Smurfit Kappa Group PLC",
           "SKG.L",
           "Ireland",
           4302.830007122894
          ],
          [
           "DS Smith PLC",
           "SMDS.L",
           "United Kingdom",
           456.3040321790292
          ],
          [
           "Smiths Group PLC",
           "SMIN.L",
           "United Kingdom",
           1725.800789138271
          ],
          [
           "Snap-on Inc.",
           "SNA",
           "United States",
           257.2622274007124
          ],
          [
           "Synopsys Inc.",
           "SNPS",
           "United States",
           340.6600036621094
          ],
          [
           "Southern Company",
           "SO",
           "United States",
           67.54000091552734
          ],
          [
           "S&P Global Inc.",
           "SPGI",
           "United States",
           456.6300048828125
          ],
          [
           "Spirax-Sarco Engineering PLC",
           "SPX.L",
           "United Kingdom",
           16700
          ],
          [
           "Sempra Energy",
           "SRE",
           "United States",
           142.5387309066128
          ],
          [
           "Seagate Technology PLC",
           "STX",
           "Ireland",
           106.2200012207031
          ],
          [
           "Constellation Brands Inc.",
           "STZ",
           "United States",
           243.8998593795433
          ],
          [
           "Severn Trent PLC",
           "SVT.L",
           "United Kingdom",
           3791.550048828125
          ],
          [
           "Stanley Black & Decker Inc.",
           "SWK",
           "United States",
           223.3425175999126
          ],
          [
           "Skyworks Solutions Inc.",
           "SWKS",
           "United States",
           202.76245005283812
          ],
          [
           "Teledyne Technologies Incorporated",
           "TDY",
           "United States",
           465.3999938964844
          ],
          [
           "TE Connectivity Ltd.",
           "TEL",
           "Switzerland",
           153.5399932861328
          ],
          [
           "Target Corporation",
           "TGT",
           "United States",
           266.1466098223367
          ],
          [
           "The TJX Companies Inc.",
           "TJX.F",
           "United States",
           64.0199966430664
          ],
          [
           "T-Mobile US Inc.",
           "TMUS",
           "United States",
           150.1999969482422
          ],
          [
           "Tapestry Inc.",
           "TPR",
           "United States",
           49.36429837623832
          ],
          [
           "Tractor Supply Company",
           "TSCO",
           "United States",
           213.6799926757812
          ],
          [
           "Tesla Inc.",
           "TSLA",
           "United States",
           900.4000244140625
          ],
          [
           "Tyson Foods Inc.",
           "TSN",
           "United States",
           81.98069100296787
          ],
          [
           "Take-Two Interactive Software Inc.",
           "TTWO",
           "United States",
           214.9100036621094
          ],
          [
           "Texas Instruments Inc.",
           "TXN",
           "United States",
           200.9199981689453
          ],
          [
           "Textron Inc.",
           "TXT",
           "United States",
           74.77899391236811
          ],
          [
           "Tyler Technologies, Inc.",
           "TYL",
           "Canada",
           498.9800109863281
          ],
          [
           "Under Armour Inc.",
           "UAA",
           "United States",
           26.45000076293945
          ],
          [
           "Ulta Beauty Inc.",
           "ULTA",
           "United States",
           414.9800109863281
          ],
          [
           "Unilever PLC",
           "ULVR.L",
           "United Kingdom",
           4837.626032181592
          ],
          [
           "Union Pacific Corporation",
           "UNP.F",
           "United States",
           193.3947738588546
          ],
          [
           "United Parcel Service Inc.",
           "UPS",
           "United States",
           217.3943748095525
          ],
          [
           "United Rentals Inc.",
           "URI",
           "United States",
           369.2200012207031
          ],
          [
           "Visa Inc.",
           "V",
           "United States",
           252.3260155720404
          ],
          [
           "V.F. Corporation",
           "VFC",
           "United States",
           89.61141190854771
          ],
          [
           "Vulcan Materials Company",
           "VMC.F",
           "United States",
           165.9131317138672
          ],
          [
           "Vodafone Group PLC",
           "VOD",
           "United Kingdom",
           19.75743326141857
          ],
          [
           "Volkswagen AG",
           "VOW3.F",
           "Germany",
           244.2129167215398
          ],
          [
           "Verisk Analytics Inc.",
           "VRSK",
           "United States",
           210.1199951171875
          ],
          [
           "VeriSign Inc.",
           "VRS.F",
           "United States",
           201.8000030517578
          ],
          [
           "Verizon Communications Inc.",
           "VZ",
           "United States",
           59.26391560578582
          ],
          [
           "Wabtec Corporation",
           "WAB",
           "United States",
           91.12000274658203
          ],
          [
           "Walgreens Boots Alliance Inc.",
           "WBA",
           "United States",
           56.01131753291823
          ],
          [
           "Western Digital Corporation",
           "WDC.F",
           "United States",
           64
          ],
          [
           "WEC Energy Group Inc.",
           "WEC",
           "United States",
           103.87815470730389
          ],
          [
           "Whirlpool Corporation",
           "WHR.F",
           "United States",
           205.1657867431641
          ],
          [
           "Waste Management Inc.",
           "WM",
           "United States",
           156.7400054931641
          ],
          [
           "Walmart Inc.",
           "WMT.F",
           "United States",
           129.7599945068359
          ],
          [
           "West Pharmaceutical Services, Inc.",
           "WST",
           "United States",
           475.3500061035156
          ],
          [
           "The Western Union Company",
           "WU",
           "United States",
           26.06336931783204
          ],
          [
           "Xilinx Inc.",
           "XLNX",
           "United States",
           161.0299987792969
          ],
          [
           "Xerox Corporation",
           "XRX",
           "United States",
           26.089320017120837
          ],
          [
           "Xylem Inc.",
           "XYL",
           "United States",
           138.7799987792969
          ],
          [
           "YUM! Brands Inc.",
           "YUM",
           "United States",
           135.2650549293986
          ],
          [
           "Zebra Technologies Corporation",
           "ZBRA",
           "United States",
           594.77001953125
          ],
          [
           "(?)",
           "(?)",
           "(?)",
           934.736595293239
          ],
          [
           "(?)",
           "(?)",
           "(?)",
           300.26844522435977
          ],
          [
           "(?)",
           "(?)",
           "(?)",
           2479.834726923031
          ],
          [
           "(?)",
           "(?)",
           "United States",
           412.2213261279769
          ],
          [
           "Ferguson PLC",
           "FERG.L",
           "United Kingdom",
           10810
          ],
          [
           "(?)",
           "(?)",
           "(?)",
           6689.893807064405
          ],
          [
           "Zebra Technologies Corporation",
           "ZBRA",
           "United States",
           594.77001953125
          ],
          [
           "(?)",
           "(?)",
           "(?)",
           1124.1361505992802
          ],
          [
           "(?)",
           "(?)",
           "(?)",
           1805.0977729922236
          ],
          [
           "(?)",
           "(?)",
           "(?)",
           4241.804921720501
          ],
          [
           "Northrop Grumman Corporation",
           "NOC",
           "United States",
           390.94000244140614
          ],
          [
           "E.ON SE",
           "EOAN.F",
           "Germany",
           11.39799976348877
          ],
          [
           "ServiceNow, Inc.",
           "NOW",
           "United States",
           681.0999755859375
          ],
          [
           "Paycom Software, Inc.",
           "PAYC",
           "United States",
           521.8200073242188
          ],
          [
           "NVR, Inc.",
           "NVR",
           "United States",
           5332.080078125
          ],
          [
           "(?)",
           "(?)",
           "(?)",
           7883.607086463294
          ],
          [
           "(?)",
           "(?)",
           "(?)",
           929.8613104250319
          ],
          [
           "(?)",
           "(?)",
           "(?)",
           4031.978479096458
          ],
          [
           "Match Group, Inc.",
           "MTCH",
           "United States",
           174.6799926757812
          ],
          [
           "(?)",
           "(?)",
           "(?)",
           3537.1108366246294
          ],
          [
           "West Pharmaceutical Services, Inc.",
           "WST",
           "United States",
           475.3500061035156
          ],
          [
           "(?)",
           "(?)",
           "United States",
           1402.7442120976555
          ],
          [
           "(?)",
           "(?)",
           "(?)",
           4964.985241024064
          ],
          [
           "Tyler Technologies, Inc.",
           "TYL",
           "Canada",
           498.9800109863281
          ],
          [
           "(?)",
           "(?)",
           "(?)",
           382.99205714473965
          ],
          [
           "(?)",
           "(?)",
           "(?)",
           104.2414715515632
          ],
          [
           "(?)",
           "(?)",
           "(?)",
           90.50891255317353
          ],
          [
           "(?)",
           "(?)",
           "(?)",
           3044.091211583528
          ]
         ],
         "domain": {
          "x": [
           0,
           1
          ],
          "y": [
           0,
           1
          ]
         },
         "hovertemplate": "labels=%{label}<br>Market Cap (USD)_sum=%{value}<br>parent=%{parent}<br>id=%{id}<br>Company=%{customdata[0]}<br>Yahoo Symbol=%{customdata[1]}<br>Country=%{customdata[2]}<br>Market Cap (USD)=%{color}<extra></extra>",
         "ids": [
          "AUTO/AAP",
          "TECHNOLOGY/AAPL",
          "IT/ACN",
          "RETAIL/AD",
          "IT/ADBE",
          "TECHNOLOGY/ADI",
          "BEVERAGE/ADM",
          "IT/ADP",
          "CONSUMER CYCLICALS/ADS",
          "IT/ADSK",
          "UTILITIES/AEE",
          "UTILITIES/AEP",
          "INDUSTRIALS/AHT",
          "IT/AKAM",
          "CHEMICALS/ALB",
          "TECHNOLOGY/ALLE",
          "TECHNOLOGY/AMAT",
          "PACKAGING/AMCR",
          "INDUSTRIALS/AMD",
          "INDUSTRIALS/AME",
          "RETAIL/AMZN",
          "TECHNOLOGY/ANET",
          "IT/ANSS",
          "INDUSTRIALS/AOS",
          "CHEMICALS/APD",
          "TECHNOLOGY/APH",
          "IT/APTV",
          "TECHNOLOGY/ASML",
          "UTILITIES/ATO",
          "IT/ATVI",
          "TECHNOLOGY/AVGO",
          "MANUFACTURING/AVV",
          "PACKAGING/AVY",
          "WATER/AWK",
          "AUTO/AZO",
          "RETAIL/BBY",
          "IT/BIDU",
          "CONSUMER CYCLICALS/BKG",
          "CONSUMER CYCLICALS/BKNG",
          "PACKAGING/BLL",
          "AUTO/BMW",
          "INDUSTRIALS/BNZL",
          "INDUSTRIALS/BR",
          "RETAIL/BRBY",
          "AUTO/BWA",
          "BEVERAGE/CAG",
          "RETAIL/CAH",
          "INDUSTRIALS/CAT",
          "BEVERAGE/CCH",
          "IT/CDNS",
          "IT/CDW",
          "CHEMICALS/CE",
          "CHEMICALS/CF",
          "CONSUMER NON-CYCLICALS/CHD",
          "IT/CHKP",
          "INDUSTRIALS/CHRW",
          "CONSUMER CYCLICALS/CHTR",
          "CONSUMER NON-CYCLICALS/CL",
          "CONSUMER NON-CYCLICALS/CLX",
          "CONSUMER CYCLICALS/CMCSA",
          "RESTAURANTS/CMG",
          "AUTO/CMI",
          "UTILITIES/CMS",
          "RETAIL/COST",
          "BEVERAGE/CPB",
          "AUTO/CPRT",
          "CHEMICALS/CRDA",
          "BASIC MATERIALS/CRH",
          "IT/CRM",
          "TECHNOLOGY/CSCO",
          "INDUSTRIALS/CSX",
          "INDUSTRIALS/CTAS",
          "IT/CTSH",
          "IT/CTXS",
          "UTILITIES/D",
          "AUTO/DAI",
          "INDUSTRIALS/DE",
          "RETAIL/DG",
          "BEVERAGE/DGE",
          "CONSUMER CYCLICALS/DHI",
          "CONSUMER CYCLICALS/DIS",
          "CONSUMER CYCLICALS/DISCA",
          "CONSUMER CYCLICALS/DISH",
          "RETAIL/DLTR",
          "INDUSTRIALS/DOV",
          "CHEMICALS/DOW",
          "INDUSTRIALS/DPW",
          "RESTAURANTS/DPZ",
          "UTILITIES/DTE",
          "UTILITIES/DUK",
          "IT/EA",
          "IT/EBAY",
          "INDUSTRIALS/EFX",
          "UTILITIES/EIX",
          "CHEMICALS/EMN",
          "INDUSTRIALS/EMR",
          "ENERGY/EOAN",
          "UTILITIES/ES",
          "INDUSTRIALS/ETN",
          "UTILITIES/ETR",
          "UTILITIES/EVRG",
          "UTILITIES/EXC",
          "INDUSTRIALS/EXPD",
          "INDUSTRIALS/EXPN",
          "AUTO/F",
          "INDUSTRIALS/FAST",
          "IT/FB",
          "CONSUMER CYCLICALS/FBHS",
          "INDUSTRIALS/FDX",
          "UTILITIES/FE",
          "BUILDING MATERIALS/FERG",
          "IT/FFIV",
          "INDUSTRIALS/FISV",
          "INDUSTRIALS/FLS",
          "INDUSTRIALS/FLT",
          "CHEMICALS/FMC",
          "CONSUMER CYCLICALS/FOXA",
          "IT/FTNT",
          "INDUSTRIALS/FTV",
          "BEVERAGE/GIS",
          "TECHNOLOGY/GLW",
          "TELECOMMUNICATIONS SERVICES/GM",
          "IT/GOOGL",
          "AUTO/GPC",
          "INDUSTRIALS/GPN",
          "RETAIL/GPS",
          "INDUSTRIALS/GRMN",
          "CONSUMER CYCLICALS/HAS",
          "RETAIL/HD",
          "INDUSTRIALS/HII",
          "INDUSTRIALS/HLMA",
          "CONGLOMERATE/HON",
          "TECHNOLOGY/HPE",
          "TECHNOLOGY/HPQ",
          "BEVERAGE/HRL",
          "BEVERAGE/HSY",
          "UTILITIES/IBE",
          "IT/IBM",
          "MANUFACTURING/IEX",
          "BEVERAGE/IMB",
          "INDUSTRIALS/INFO",
          "TECHNOLOGY/INTC",
          "IT/INTU",
          "CONSUMER CYCLICALS/IPG",
          "TECHNOLOGY/IPGP",
          "IT/IT",
          "INDUSTRIALS/ITRK",
          "CONGLOMERATE/ITW",
          "INDUSTRIALS/JBHT",
          "INDUSTRIALS/JCI",
          "IT/JD",
          "IT/JKHY",
          "CHEMICALS/JMAT",
          "TECHNOLOGY/JNPR",
          "BEVERAGE/K",
          "BEVERAGE/KDP",
          "INDUSTRIALS/KEYS",
          "RETAIL/KGF",
          "BEVERAGE/KHC",
          "TECHNOLOGY/KLAC",
          "CONSUMER NON-CYCLICALS/KMB",
          "AUTO/KMX",
          "BEVERAGE/KO",
          "RETAIL/KR",
          "INDUSTRIALS/KSU",
          "CONSUMER CYCLICALS/LEG",
          "CONSUMER CYCLICALS/LEN",
          "CHEMICALS/LIN",
          "AUTO/LKQ",
          "UTILITIES/LNT",
          "RETAIL/LOW",
          "TECHNOLOGY/LRCX",
          "RETAIL/LULU",
          "BEVERAGE/LW",
          "CHEMICALS/LYB",
          "IT/MA",
          "CONSUMER CYCLICALS/MAR",
          "CONSUMER CYCLICALS/MAS",
          "RESTAURANTS/MCD",
          "TECHNOLOGY/MCHP",
          "BEVERAGE/MDLZ",
          "CONSUMER CYCLICALS/MHK",
          "BEVERAGE/MKC",
          "BASIC MATERIALS/MLM",
          "CONGLOMERATE/MMM",
          "BEVERAGE/MNST",
          "BEVERAGE/MO",
          "CHEMICALS/MOS",
          "BIOTECHNOLOGY/MRNA",
          "RETAIL/MRW",
          "INDUSTRIALS/MSCI",
          "IT/MSFT",
          "TECHNOLOGY/MSI",
          "ONLINE DATING SERVICE/MTCH",
          "INDUSTRIALS/MTD",
          "TECHNOLOGY/MU",
          "UTILITIES/NEE",
          "IT/NFLX",
          "UTILITIES/NI",
          "CONSUMER CYCLICALS/NKE",
          "CONSUMER CYCLICALS/NLSN",
          "DEFENSE INDUSTRY/NOC",
          "ENTERPRISE SOFTWARE/NOW",
          "UTILITIES/NRG",
          "TECHNOLOGY/NTAP",
          "IT/NTES",
          "TECHNOLOGY/NVDA",
          "HOME CONSTRUCTION/NVR",
          "CONSUMER CYCLICALS/NWL",
          "TECHNOLOGY/NXPI",
          "RETAIL/NXT",
          "CONSUMER CYCLICALS/OMC",
          "IT/ORCL",
          "AUTO/ORLY",
          "HCM/PAYC",
          "INDUSTRIALS/PAYX",
          "INDUSTRIALS/PCAR",
          "BEVERAGE/PEP",
          "CONSUMER NON-CYCLICALS/PG",
          "CONSUMER CYCLICALS/PHM",
          "PACKAGING/PKG",
          "WATER/PNN",
          "INDUSTRIALS/PNR",
          "UTILITIES/PNW",
          "CHEMICALS/PPG",
          "CONSUMER CYCLICALS/PSN",
          "CONSUMER CYCLICALS/PSON",
          "CONSUMER CYCLICALS/PVH",
          "INDUSTRIALS/PWR",
          "IT/PYPL",
          "TECHNOLOGY/QCOM",
          "TECHNOLOGY/QRVO",
          "INDUSTRIALS/REL",
          "INDUSTRIALS/RHI",
          "IT/RMV",
          "INDUSTRIALS/ROK",
          "INDUSTRIALS/ROL",
          "INDUSTRIALS/ROP",
          "RETAIL/ROST",
          "INDUSTRIALS/RSG",
          "INDUSTRIALS/RTO",
          "IT/SAP",
          "RESTAURANTS/SBUX",
          "PACKAGING/SEE",
          "IT/SGE",
          "BIOTECHNOLOGY/SGEN",
          "CHEMICALS/SHW",
          "CONGLOMERATE/SIE",
          "CONSUMER CYCLICALS/SIRI",
          "BEVERAGE/SJM",
          "PACKAGING/SKG",
          "PACKAGING/SMDS",
          "CONGLOMERATE/SMIN",
          "IT/SNA",
          "IT/SNPS",
          "UTILITIES/SO",
          "INDUSTRIALS/SPGI",
          "INDUSTRIALS/SPX",
          "UTILITIES/SRE",
          "TECHNOLOGY/STX",
          "BEVERAGE/STZ",
          "WATER/SVT",
          "INDUSTRIALS/SWK",
          "TECHNOLOGY/SWKS",
          "CONGLOMERATE/TDY",
          "INDUSTRIALS/TEL",
          "RETAIL/TGT",
          "RETAIL/TJX",
          "TELECOMMUNICATIONS SERVICES/TMUS",
          "RETAIL/TPR",
          "RETAIL/TSCO",
          "AUTO/TSLA",
          "BEVERAGE/TSN",
          "CONSUMER CYCLICALS/TTWO",
          "TECHNOLOGY/TXN",
          "AUTO/TXT",
          "SOFTWARE/TYL",
          "CONSUMER CYCLICALS/UAA",
          "RETAIL/ULTA",
          "CONSUMER NON-CYCLICALS/ULVR",
          "INDUSTRIALS/UNP",
          "INDUSTRIALS/UPS",
          "INDUSTRIALS/URI",
          "IT/V",
          "CONSUMER CYCLICALS/VFC",
          "BASIC MATERIALS/VMC",
          "TELECOMMUNICATIONS SERVICES/VOD",
          "AUTO/VOW3",
          "IT/VRSK",
          "IT/VRSN",
          "TELECOMMUNICATIONS SERVICES/VZ",
          "INDUSTRIALS/WAB",
          "RETAIL/WBA",
          "TECHNOLOGY/WDC",
          "UTILITIES/WEC",
          "CONSUMER CYCLICALS/WHR",
          "INDUSTRIALS/WM",
          "RETAIL/WMT",
          "PHARMACEUTICALS/WST",
          "INDUSTRIALS/WU",
          "TECHNOLOGY/XLNX",
          "TECHNOLOGY/XRX",
          "INDUSTRIALS/XYL",
          "RESTAURANTS/YUM",
          "COMPUTER HARDWARE/ZBRA",
          "AUTO",
          "BASIC MATERIALS",
          "BEVERAGE",
          "BIOTECHNOLOGY",
          "BUILDING MATERIALS",
          "CHEMICALS",
          "COMPUTER HARDWARE",
          "CONGLOMERATE",
          "CONSUMER CYCLICALS",
          "CONSUMER NON-CYCLICALS",
          "DEFENSE INDUSTRY",
          "ENERGY",
          "ENTERPRISE SOFTWARE",
          "HCM",
          "HOME CONSTRUCTION",
          "INDUSTRIALS",
          "IT",
          "MANUFACTURING",
          "ONLINE DATING SERVICE",
          "PACKAGING",
          "PHARMACEUTICALS",
          "RESTAURANTS",
          "RETAIL",
          "SOFTWARE",
          "TECHNOLOGY",
          "TELECOMMUNICATIONS SERVICES",
          "UTILITIES",
          "WATER"
         ],
         "labels": [
          "AAP",
          "AAPL",
          "ACN",
          "AD",
          "ADBE",
          "ADI",
          "ADM",
          "ADP",
          "ADS",
          "ADSK",
          "AEE",
          "AEP",
          "AHT",
          "AKAM",
          "ALB",
          "ALLE",
          "AMAT",
          "AMCR",
          "AMD",
          "AME",
          "AMZN",
          "ANET",
          "ANSS",
          "AOS",
          "APD",
          "APH",
          "APTV",
          "ASML",
          "ATO",
          "ATVI",
          "AVGO",
          "AVV",
          "AVY",
          "AWK",
          "AZO",
          "BBY",
          "BIDU",
          "BKG",
          "BKNG",
          "BLL",
          "BMW",
          "BNZL",
          "BR",
          "BRBY",
          "BWA",
          "CAG",
          "CAH",
          "CAT",
          "CCH",
          "CDNS",
          "CDW",
          "CE",
          "CF",
          "CHD",
          "CHKP",
          "CHRW",
          "CHTR",
          "CL",
          "CLX",
          "CMCSA",
          "CMG",
          "CMI",
          "CMS",
          "COST",
          "CPB",
          "CPRT",
          "CRDA",
          "CRH",
          "CRM",
          "CSCO",
          "CSX",
          "CTAS",
          "CTSH",
          "CTXS",
          "D",
          "DAI",
          "DE",
          "DG",
          "DGE",
          "DHI",
          "DIS",
          "DISCA",
          "DISH",
          "DLTR",
          "DOV",
          "DOW",
          "DPW",
          "DPZ",
          "DTE",
          "DUK",
          "EA",
          "EBAY",
          "EFX",
          "EIX",
          "EMN",
          "EMR",
          "EOAN",
          "ES",
          "ETN",
          "ETR",
          "EVRG",
          "EXC",
          "EXPD",
          "EXPN",
          "F",
          "FAST",
          "FB",
          "FBHS",
          "FDX",
          "FE",
          "FERG",
          "FFIV",
          "FISV",
          "FLS",
          "FLT",
          "FMC",
          "FOXA",
          "FTNT",
          "FTV",
          "GIS",
          "GLW",
          "GM",
          "GOOGL",
          "GPC",
          "GPN",
          "GPS",
          "GRMN",
          "HAS",
          "HD",
          "HII",
          "HLMA",
          "HON",
          "HPE",
          "HPQ",
          "HRL",
          "HSY",
          "IBE",
          "IBM",
          "IEX",
          "IMB",
          "INFO",
          "INTC",
          "INTU",
          "IPG",
          "IPGP",
          "IT",
          "ITRK",
          "ITW",
          "JBHT",
          "JCI",
          "JD",
          "JKHY",
          "JMAT",
          "JNPR",
          "K",
          "KDP",
          "KEYS",
          "KGF",
          "KHC",
          "KLAC",
          "KMB",
          "KMX",
          "KO",
          "KR",
          "KSU",
          "LEG",
          "LEN",
          "LIN",
          "LKQ",
          "LNT",
          "LOW",
          "LRCX",
          "LULU",
          "LW",
          "LYB",
          "MA",
          "MAR",
          "MAS",
          "MCD",
          "MCHP",
          "MDLZ",
          "MHK",
          "MKC",
          "MLM",
          "MMM",
          "MNST",
          "MO",
          "MOS",
          "MRNA",
          "MRW",
          "MSCI",
          "MSFT",
          "MSI",
          "MTCH",
          "MTD",
          "MU",
          "NEE",
          "NFLX",
          "NI",
          "NKE",
          "NLSN",
          "NOC",
          "NOW",
          "NRG",
          "NTAP",
          "NTES",
          "NVDA",
          "NVR",
          "NWL",
          "NXPI",
          "NXT",
          "OMC",
          "ORCL",
          "ORLY",
          "PAYC",
          "PAYX",
          "PCAR",
          "PEP",
          "PG",
          "PHM",
          "PKG",
          "PNN",
          "PNR",
          "PNW",
          "PPG",
          "PSN",
          "PSON",
          "PVH",
          "PWR",
          "PYPL",
          "QCOM",
          "QRVO",
          "REL",
          "RHI",
          "RMV",
          "ROK",
          "ROL",
          "ROP",
          "ROST",
          "RSG",
          "RTO",
          "SAP",
          "SBUX",
          "SEE",
          "SGE",
          "SGEN",
          "SHW",
          "SIE",
          "SIRI",
          "SJM",
          "SKG",
          "SMDS",
          "SMIN",
          "SNA",
          "SNPS",
          "SO",
          "SPGI",
          "SPX",
          "SRE",
          "STX",
          "STZ",
          "SVT",
          "SWK",
          "SWKS",
          "TDY",
          "TEL",
          "TGT",
          "TJX",
          "TMUS",
          "TPR",
          "TSCO",
          "TSLA",
          "TSN",
          "TTWO",
          "TXN",
          "TXT",
          "TYL",
          "UAA",
          "ULTA",
          "ULVR",
          "UNP",
          "UPS",
          "URI",
          "V",
          "VFC",
          "VMC",
          "VOD",
          "VOW3",
          "VRSK",
          "VRSN",
          "VZ",
          "WAB",
          "WBA",
          "WDC",
          "WEC",
          "WHR",
          "WM",
          "WMT",
          "WST",
          "WU",
          "XLNX",
          "XRX",
          "XYL",
          "YUM",
          "ZBRA",
          "AUTO",
          "BASIC MATERIALS",
          "BEVERAGE",
          "BIOTECHNOLOGY",
          "BUILDING MATERIALS",
          "CHEMICALS",
          "COMPUTER HARDWARE",
          "CONGLOMERATE",
          "CONSUMER CYCLICALS",
          "CONSUMER NON-CYCLICALS",
          "DEFENSE INDUSTRY",
          "ENERGY",
          "ENTERPRISE SOFTWARE",
          "HCM",
          "HOME CONSTRUCTION",
          "INDUSTRIALS",
          "IT",
          "MANUFACTURING",
          "ONLINE DATING SERVICE",
          "PACKAGING",
          "PHARMACEUTICALS",
          "RESTAURANTS",
          "RETAIL",
          "SOFTWARE",
          "TECHNOLOGY",
          "TELECOMMUNICATIONS SERVICES",
          "UTILITIES",
          "WATER"
         ],
         "marker": {
          "coloraxis": "coloraxis",
          "colors": [
           220.1199951171875,
           157.2599945068359,
           345.5199890136719,
           29.45499992370605,
           673.8800048828125,
           178.8399963378906,
           56.66210556030273,
           183.2567138671875,
           335.0499877929688,
           344.3900146484375,
           90.20339349074824,
           77.66999816894531,
           79.5,
           124.9100036621094,
           252.6781438554638,
           148.316431339924,
           145.4790366856268,
           12.800275797728888,
           103.2200012207031,
           139.8851788182893,
           3773.080078125,
           384,
           413.1900024414062,
           73.80999755859375,
           320.9879704696212,
           77.69000244140625,
           170.4700012207031,
           895.9299926757812,
           103.66159474691828,
           104.0263170383795,
           510.7000122070312,
           4242,
           228.1932308544546,
           189.35000610351562,
           1738.780029296875,
           126.9721255028175,
           354.8200073242188,
           0.5400000214576721,
           2540,
           102.0220689482459,
           96.2699966430664,
           2708,
           176.4942647385575,
           2220.365133680556,
           55.330178508372924,
           38.72524295354024,
           61.34543495610958,
           245.3732144484381,
           2809.594970703125,
           168.6100006103516,
           203.8200073242188,
           170.2189719317673,
           62.06000137329102,
           95.18956217122933,
           139.2599945068359,
           104.5645040851852,
           825.6199951171875,
           84.99137242335121,
           228.3237044787723,
           61.52789942391084,
           1958.550048828125,
           273.9359021228876,
           66.54515519685368,
           470.489990234375,
           52.47904429371933,
           152.75,
           9313.665811086134,
           53.74850496045736,
           286.3599853515625,
           59.86557647720763,
           34.76230308348569,
           409.7999877929688,
           82.03317795511214,
           145.6766008187515,
           84.10526567551878,
           81.06999969482422,
           398.125630282092,
           238.8694974279888,
           3666,
           106.6642576472281,
           203.02000427246088,
           78.13999938964844,
           47.04999923706055,
           120.370002746582,
           148.5500030517578,
           70.37832972217424,
           61.27999877929688,
           547.7107964624554,
           121.9102732567676,
           108.379997253418,
           149.7574363868646,
           77.72000122070312,
           236,
           52.60030364990234,
           128.9392957933663,
           89.33999633789062,
           11.39799976348877,
           93.95789635895133,
           171.3200073242188,
           115.0199966430664,
           69.44999694824219,
           50.9900016784668,
           130.7599945068359,
           3439.489990234375,
           16.45000076293945,
           56.38999938964844,
           384.3299865722656,
           113.43975094496899,
           258.7369884862475,
           39.93999862670898,
           10810,
           216.1499938964844,
           127.3399963378906,
           43.91820186796631,
           295.3599853515625,
           121.9697546054332,
           44.79999923706055,
           322,
           76.51000213623047,
           63.57782431545611,
           38.24878315371605,
           64.30000305175781,
           2925.080078125,
           134.187803628064,
           220.2613224546479,
           37.30647027957006,
           178.8099975585938,
           87.28643439797794,
           343.739990234375,
           222.8909983208418,
           3184,
           235.9193639812007,
           16.47623418961718,
           35.53945468334442,
           51.69104003906249,
           155.9499969482422,
           12.10725393473305,
           125.5999984741211,
           234.6129956566076,
           1642.724582685792,
           125.2300033569336,
           67.6312586068142,
           582.2185071355992,
           33.20000076293945,
           262.5499877929688,
           327.2000122070312,
           6186.448995955868,
           239.4677182349764,
           184.3800048828125,
           76.54997812816468,
           108.2900009155273,
           179.9799957275391,
           3309.534152717185,
           29.56775873767775,
           67.3685379013038,
           36.71275011467282,
           182.49000549316406,
           376.0957730356253,
           44.0497490736097,
           374.6000061035156,
           150.3460746432714,
           147.7299957275391,
           57.12884209459499,
           47.9900016784668,
           314.212422011428,
           58.18387754000717,
           110.33167255785109,
           271.3999938964844,
           53.16999816894531,
           62.34999847412109,
           214.3274273768495,
           670.8059959321304,
           437.3200073242188,
           85.84217545508018,
           116.5537386013663,
           400.5214786597936,
           159.9799957275391,
           68.01760427371374,
           249.9499969482422,
           166.1300048828125,
           65.2088534460156,
           231.8000030517578,
           100.0972758525555,
           391.1356206546266,
           170.9249025259469,
           99.88999938964844,
           50.75231771971337,
           40.56000137329102,
           497.489990234375,
           297,
           667.0700073242188,
           305.8399963378906,
           246.244680175323,
           174.6799926757812,
           1626.619995117188,
           96.82465626820449,
           86.97000122070312,
           646.8400268554688,
           26.37051004379596,
           147.8131561279297,
           28.2835447597469,
           390.94000244140614,
           681.0999755859375,
           46.099998474121094,
           94.33000183105469,
           133.5507487673502,
           230.3893581177994,
           5332.080078125,
           23.509532928466797,
           228.1204293564423,
           8484,
           84.83576785604421,
           95.0199966430664,
           629.4000244140625,
           521.8200073242188,
           119.379997253418,
           102.053489502999,
           159.6300048828125,
           147.2299957275391,
           63.56467963207814,
           154.7529723671755,
           1369.925587582944,
           80.4000015258789,
           89.1082787084233,
           182.3126682226149,
           3152.465097245828,
           886.3466607727439,
           101.5999984741211,
           119.6380015231984,
           310.1600036621094,
           165.5239713784734,
           201.6799926757812,
           2246,
           109.5400009155273,
           764.4520356884684,
           327.2000122070312,
           42.72499579438661,
           424.3833927953406,
           133.5735316610348,
           126.0400009155273,
           35.20000076293945,
           133.0770407123981,
           125.8316088374686,
           61.83840793957814,
           760.2000122070312,
           213.9400024414062,
           310.4299926757812,
           151.6199951171875,
           8.080758722920459,
           139.5894140430753,
           4302.830007122894,
           456.3040321790292,
           1725.800789138271,
           257.2622274007124,
           340.6600036621094,
           67.54000091552734,
           456.6300048828125,
           16700,
           142.5387309066128,
           106.2200012207031,
           243.8998593795433,
           3791.550048828125,
           223.3425175999126,
           202.76245005283812,
           465.3999938964844,
           153.5399932861328,
           266.1466098223367,
           64.0199966430664,
           150.1999969482422,
           49.36429837623832,
           213.6799926757812,
           900.4000244140625,
           81.98069100296787,
           214.9100036621094,
           200.9199981689453,
           74.77899391236811,
           498.9800109863281,
           26.45000076293945,
           414.9800109863281,
           4837.626032181592,
           193.3947738588546,
           217.3943748095525,
           369.2200012207031,
           252.3260155720404,
           89.61141190854771,
           165.9131317138672,
           19.75743326141857,
           244.2129167215398,
           210.1199951171875,
           201.8000030517578,
           59.26391560578582,
           91.12000274658203,
           56.01131753291823,
           64,
           103.87815470730389,
           205.1657867431641,
           156.7400054931641,
           129.7599945068359,
           475.3500061035156,
           26.06336931783204,
           161.0299987792969,
           26.089320017120837,
           138.7799987792969,
           135.2650549293986,
           594.77001953125,
           934.736595293239,
           300.26844522435977,
           2479.834726923031,
           412.2213261279769,
           10810,
           6689.893807064405,
           594.77001953125,
           1124.1361505992802,
           1805.0977729922236,
           4241.804921720501,
           390.94000244140614,
           11.39799976348877,
           681.0999755859375,
           521.8200073242188,
           5332.080078125,
           7883.607086463294,
           929.8613104250319,
           4031.978479096458,
           174.6799926757812,
           3537.1108366246294,
           475.3500061035156,
           1402.7442120976555,
           4964.985241024064,
           498.9800109863281,
           382.99205714473965,
           104.2414715515632,
           90.50891255317353,
           3044.091211583528
          ]
         },
         "name": "",
         "parents": [
          "AUTO",
          "TECHNOLOGY",
          "IT",
          "RETAIL",
          "IT",
          "TECHNOLOGY",
          "BEVERAGE",
          "IT",
          "CONSUMER CYCLICALS",
          "IT",
          "UTILITIES",
          "UTILITIES",
          "INDUSTRIALS",
          "IT",
          "CHEMICALS",
          "TECHNOLOGY",
          "TECHNOLOGY",
          "PACKAGING",
          "INDUSTRIALS",
          "INDUSTRIALS",
          "RETAIL",
          "TECHNOLOGY",
          "IT",
          "INDUSTRIALS",
          "CHEMICALS",
          "TECHNOLOGY",
          "IT",
          "TECHNOLOGY",
          "UTILITIES",
          "IT",
          "TECHNOLOGY",
          "MANUFACTURING",
          "PACKAGING",
          "WATER",
          "AUTO",
          "RETAIL",
          "IT",
          "CONSUMER CYCLICALS",
          "CONSUMER CYCLICALS",
          "PACKAGING",
          "AUTO",
          "INDUSTRIALS",
          "INDUSTRIALS",
          "RETAIL",
          "AUTO",
          "BEVERAGE",
          "RETAIL",
          "INDUSTRIALS",
          "BEVERAGE",
          "IT",
          "IT",
          "CHEMICALS",
          "CHEMICALS",
          "CONSUMER NON-CYCLICALS",
          "IT",
          "INDUSTRIALS",
          "CONSUMER CYCLICALS",
          "CONSUMER NON-CYCLICALS",
          "CONSUMER NON-CYCLICALS",
          "CONSUMER CYCLICALS",
          "RESTAURANTS",
          "AUTO",
          "UTILITIES",
          "RETAIL",
          "BEVERAGE",
          "AUTO",
          "CHEMICALS",
          "BASIC MATERIALS",
          "IT",
          "TECHNOLOGY",
          "INDUSTRIALS",
          "INDUSTRIALS",
          "IT",
          "IT",
          "UTILITIES",
          "AUTO",
          "INDUSTRIALS",
          "RETAIL",
          "BEVERAGE",
          "CONSUMER CYCLICALS",
          "CONSUMER CYCLICALS",
          "CONSUMER CYCLICALS",
          "CONSUMER CYCLICALS",
          "RETAIL",
          "INDUSTRIALS",
          "CHEMICALS",
          "INDUSTRIALS",
          "RESTAURANTS",
          "UTILITIES",
          "UTILITIES",
          "IT",
          "IT",
          "INDUSTRIALS",
          "UTILITIES",
          "CHEMICALS",
          "INDUSTRIALS",
          "ENERGY",
          "UTILITIES",
          "INDUSTRIALS",
          "UTILITIES",
          "UTILITIES",
          "UTILITIES",
          "INDUSTRIALS",
          "INDUSTRIALS",
          "AUTO",
          "INDUSTRIALS",
          "IT",
          "CONSUMER CYCLICALS",
          "INDUSTRIALS",
          "UTILITIES",
          "BUILDING MATERIALS",
          "IT",
          "INDUSTRIALS",
          "INDUSTRIALS",
          "INDUSTRIALS",
          "CHEMICALS",
          "CONSUMER CYCLICALS",
          "IT",
          "INDUSTRIALS",
          "BEVERAGE",
          "TECHNOLOGY",
          "TELECOMMUNICATIONS SERVICES",
          "IT",
          "AUTO",
          "INDUSTRIALS",
          "RETAIL",
          "INDUSTRIALS",
          "CONSUMER CYCLICALS",
          "RETAIL",
          "INDUSTRIALS",
          "INDUSTRIALS",
          "CONGLOMERATE",
          "TECHNOLOGY",
          "TECHNOLOGY",
          "BEVERAGE",
          "BEVERAGE",
          "UTILITIES",
          "IT",
          "MANUFACTURING",
          "BEVERAGE",
          "INDUSTRIALS",
          "TECHNOLOGY",
          "IT",
          "CONSUMER CYCLICALS",
          "TECHNOLOGY",
          "IT",
          "INDUSTRIALS",
          "CONGLOMERATE",
          "INDUSTRIALS",
          "INDUSTRIALS",
          "IT",
          "IT",
          "CHEMICALS",
          "TECHNOLOGY",
          "BEVERAGE",
          "BEVERAGE",
          "INDUSTRIALS",
          "RETAIL",
          "BEVERAGE",
          "TECHNOLOGY",
          "CONSUMER NON-CYCLICALS",
          "AUTO",
          "BEVERAGE",
          "RETAIL",
          "INDUSTRIALS",
          "CONSUMER CYCLICALS",
          "CONSUMER CYCLICALS",
          "CHEMICALS",
          "AUTO",
          "UTILITIES",
          "RETAIL",
          "TECHNOLOGY",
          "RETAIL",
          "BEVERAGE",
          "CHEMICALS",
          "IT",
          "CONSUMER CYCLICALS",
          "CONSUMER CYCLICALS",
          "RESTAURANTS",
          "TECHNOLOGY",
          "BEVERAGE",
          "CONSUMER CYCLICALS",
          "BEVERAGE",
          "BASIC MATERIALS",
          "CONGLOMERATE",
          "BEVERAGE",
          "BEVERAGE",
          "CHEMICALS",
          "BIOTECHNOLOGY",
          "RETAIL",
          "INDUSTRIALS",
          "IT",
          "TECHNOLOGY",
          "ONLINE DATING SERVICE",
          "INDUSTRIALS",
          "TECHNOLOGY",
          "UTILITIES",
          "IT",
          "UTILITIES",
          "CONSUMER CYCLICALS",
          "CONSUMER CYCLICALS",
          "DEFENSE INDUSTRY",
          "ENTERPRISE SOFTWARE",
          "UTILITIES",
          "TECHNOLOGY",
          "IT",
          "TECHNOLOGY",
          "HOME CONSTRUCTION",
          "CONSUMER CYCLICALS",
          "TECHNOLOGY",
          "RETAIL",
          "CONSUMER CYCLICALS",
          "IT",
          "AUTO",
          "HCM",
          "INDUSTRIALS",
          "INDUSTRIALS",
          "BEVERAGE",
          "CONSUMER NON-CYCLICALS",
          "CONSUMER CYCLICALS",
          "PACKAGING",
          "WATER",
          "INDUSTRIALS",
          "UTILITIES",
          "CHEMICALS",
          "CONSUMER CYCLICALS",
          "CONSUMER CYCLICALS",
          "CONSUMER CYCLICALS",
          "INDUSTRIALS",
          "IT",
          "TECHNOLOGY",
          "TECHNOLOGY",
          "INDUSTRIALS",
          "INDUSTRIALS",
          "IT",
          "INDUSTRIALS",
          "INDUSTRIALS",
          "INDUSTRIALS",
          "RETAIL",
          "INDUSTRIALS",
          "INDUSTRIALS",
          "IT",
          "RESTAURANTS",
          "PACKAGING",
          "IT",
          "BIOTECHNOLOGY",
          "CHEMICALS",
          "CONGLOMERATE",
          "CONSUMER CYCLICALS",
          "BEVERAGE",
          "PACKAGING",
          "PACKAGING",
          "CONGLOMERATE",
          "IT",
          "IT",
          "UTILITIES",
          "INDUSTRIALS",
          "INDUSTRIALS",
          "UTILITIES",
          "TECHNOLOGY",
          "BEVERAGE",
          "WATER",
          "INDUSTRIALS",
          "TECHNOLOGY",
          "CONGLOMERATE",
          "INDUSTRIALS",
          "RETAIL",
          "RETAIL",
          "TELECOMMUNICATIONS SERVICES",
          "RETAIL",
          "RETAIL",
          "AUTO",
          "BEVERAGE",
          "CONSUMER CYCLICALS",
          "TECHNOLOGY",
          "AUTO",
          "SOFTWARE",
          "CONSUMER CYCLICALS",
          "RETAIL",
          "CONSUMER NON-CYCLICALS",
          "INDUSTRIALS",
          "INDUSTRIALS",
          "INDUSTRIALS",
          "IT",
          "CONSUMER CYCLICALS",
          "BASIC MATERIALS",
          "TELECOMMUNICATIONS SERVICES",
          "AUTO",
          "IT",
          "IT",
          "TELECOMMUNICATIONS SERVICES",
          "INDUSTRIALS",
          "RETAIL",
          "TECHNOLOGY",
          "UTILITIES",
          "CONSUMER CYCLICALS",
          "INDUSTRIALS",
          "RETAIL",
          "PHARMACEUTICALS",
          "INDUSTRIALS",
          "TECHNOLOGY",
          "TECHNOLOGY",
          "INDUSTRIALS",
          "RESTAURANTS",
          "COMPUTER HARDWARE",
          "",
          "",
          "",
          "",
          "",
          "",
          "",
          "",
          "",
          "",
          "",
          "",
          "",
          "",
          "",
          "",
          "",
          "",
          "",
          "",
          "",
          "",
          "",
          "",
          "",
          "",
          "",
          ""
         ],
         "type": "treemap",
         "values": [
          220.1199951171875,
          157.2599945068359,
          345.5199890136719,
          29.45499992370605,
          673.8800048828125,
          178.8399963378906,
          56.66210556030273,
          183.2567138671875,
          335.0499877929688,
          344.3900146484375,
          90.20339349074824,
          77.66999816894531,
          79.5,
          124.9100036621094,
          252.6781438554638,
          148.316431339924,
          145.4790366856268,
          12.80027579772889,
          103.2200012207031,
          139.8851788182893,
          3773.080078125,
          384,
          413.1900024414062,
          73.80999755859375,
          320.9879704696212,
          77.69000244140625,
          170.4700012207031,
          895.9299926757812,
          103.6615947469183,
          104.0263170383795,
          510.7000122070312,
          4242,
          228.1932308544546,
          189.3500061035156,
          1738.780029296875,
          126.9721255028175,
          354.8200073242188,
          0.5400000214576721,
          2540,
          102.0220689482459,
          96.2699966430664,
          2708,
          176.4942647385575,
          2220.365133680556,
          55.33017850837292,
          38.72524295354024,
          61.34543495610958,
          245.3732144484381,
          2809.594970703125,
          168.6100006103516,
          203.8200073242188,
          170.2189719317673,
          62.06000137329102,
          95.18956217122931,
          139.2599945068359,
          104.5645040851852,
          825.6199951171875,
          84.99137242335121,
          228.3237044787723,
          61.52789942391084,
          1958.550048828125,
          273.9359021228876,
          66.54515519685368,
          470.489990234375,
          52.47904429371933,
          152.75,
          9313.665811086134,
          53.74850496045737,
          286.3599853515625,
          59.86557647720763,
          34.76230308348569,
          409.7999877929688,
          82.03317795511214,
          145.6766008187515,
          84.10526567551878,
          81.06999969482422,
          398.125630282092,
          238.8694974279888,
          3666,
          106.6642576472281,
          203.0200042724609,
          78.13999938964844,
          47.04999923706055,
          120.370002746582,
          148.5500030517578,
          70.37832972217424,
          61.27999877929688,
          547.7107964624554,
          121.9102732567676,
          108.379997253418,
          149.7574363868646,
          77.72000122070312,
          236,
          52.60030364990234,
          128.9392957933663,
          89.33999633789062,
          11.39799976348877,
          93.95789635895134,
          171.3200073242188,
          115.0199966430664,
          69.44999694824219,
          50.9900016784668,
          130.7599945068359,
          3439.489990234375,
          16.45000076293945,
          56.38999938964844,
          384.3299865722656,
          113.439750944969,
          258.7369884862475,
          39.93999862670898,
          10810,
          216.1499938964844,
          127.3399963378906,
          43.91820186796631,
          295.3599853515625,
          121.9697546054332,
          44.79999923706055,
          322,
          76.51000213623047,
          63.57782431545611,
          38.24878315371605,
          64.30000305175781,
          2925.080078125,
          134.187803628064,
          220.2613224546479,
          37.30647027957006,
          178.8099975585938,
          87.28643439797794,
          343.739990234375,
          222.8909983208418,
          3184,
          235.9193639812007,
          16.47623418961718,
          35.53945468334442,
          51.69104003906249,
          155.9499969482422,
          12.10725393473305,
          125.5999984741211,
          234.6129956566076,
          1642.724582685792,
          125.2300033569336,
          67.6312586068142,
          582.2185071355992,
          33.20000076293945,
          262.5499877929688,
          327.2000122070312,
          6186.448995955868,
          239.4677182349764,
          184.3800048828125,
          76.54997812816468,
          108.2900009155273,
          179.9799957275391,
          3309.534152717185,
          29.56775873767775,
          67.3685379013038,
          36.71275011467282,
          182.4900054931641,
          376.0957730356253,
          44.0497490736097,
          374.6000061035156,
          150.3460746432714,
          147.7299957275391,
          57.12884209459499,
          47.9900016784668,
          314.212422011428,
          58.18387754000717,
          110.3316725578511,
          271.3999938964844,
          53.16999816894531,
          62.34999847412109,
          214.3274273768495,
          670.8059959321304,
          437.3200073242188,
          85.84217545508018,
          116.5537386013663,
          400.5214786597936,
          159.9799957275391,
          68.01760427371374,
          249.9499969482422,
          166.1300048828125,
          65.2088534460156,
          231.8000030517578,
          100.0972758525555,
          391.1356206546266,
          170.9249025259469,
          99.88999938964844,
          50.75231771971337,
          40.56000137329102,
          497.489990234375,
          297,
          667.0700073242188,
          305.8399963378906,
          246.244680175323,
          174.6799926757812,
          1626.619995117188,
          96.82465626820449,
          86.97000122070312,
          646.8400268554688,
          26.37051004379596,
          147.8131561279297,
          28.2835447597469,
          390.9400024414062,
          681.0999755859375,
          46.09999847412109,
          94.33000183105469,
          133.5507487673502,
          230.3893581177994,
          5332.080078125,
          23.5095329284668,
          228.1204293564423,
          8484,
          84.83576785604421,
          95.0199966430664,
          629.4000244140625,
          521.8200073242188,
          119.379997253418,
          102.053489502999,
          159.6300048828125,
          147.2299957275391,
          63.56467963207814,
          154.7529723671755,
          1369.925587582944,
          80.4000015258789,
          89.1082787084233,
          182.3126682226149,
          3152.465097245828,
          886.3466607727439,
          101.5999984741211,
          119.6380015231984,
          310.1600036621094,
          165.5239713784734,
          201.6799926757812,
          2246,
          109.5400009155273,
          764.4520356884684,
          327.2000122070312,
          42.72499579438661,
          424.3833927953406,
          133.5735316610348,
          126.0400009155273,
          35.20000076293945,
          133.0770407123981,
          125.8316088374686,
          61.83840793957814,
          760.2000122070312,
          213.9400024414062,
          310.4299926757812,
          151.6199951171875,
          8.080758722920459,
          139.5894140430753,
          4302.830007122894,
          456.3040321790292,
          1725.800789138271,
          257.2622274007124,
          340.6600036621094,
          67.54000091552734,
          456.6300048828125,
          16700,
          142.5387309066128,
          106.2200012207031,
          243.8998593795433,
          3791.550048828125,
          223.3425175999126,
          202.7624500528381,
          465.3999938964844,
          153.5399932861328,
          266.1466098223367,
          64.0199966430664,
          150.1999969482422,
          49.36429837623832,
          213.6799926757812,
          900.4000244140625,
          81.98069100296787,
          214.9100036621094,
          200.9199981689453,
          74.77899391236811,
          498.9800109863281,
          26.45000076293945,
          414.9800109863281,
          4837.626032181592,
          193.3947738588546,
          217.3943748095525,
          369.2200012207031,
          252.3260155720404,
          89.61141190854771,
          165.9131317138672,
          19.75743326141857,
          244.2129167215398,
          210.1199951171875,
          201.8000030517578,
          59.26391560578582,
          91.12000274658203,
          56.01131753291823,
          64,
          103.8781547073039,
          205.1657867431641,
          156.7400054931641,
          129.7599945068359,
          475.3500061035156,
          26.06336931783204,
          161.0299987792969,
          26.08932001712084,
          138.7799987792969,
          135.2650549293986,
          594.77001953125,
          4818.585859132734,
          610.7972573289511,
          9769.555277854834,
          711.4299926757812,
          10810,
          14671.688826323974,
          594.77001953125,
          2989.132762894067,
          10137.287880992379,
          5543.706741625755,
          390.9400024414062,
          11.39799976348877,
          681.0999755859375,
          521.8200073242188,
          5332.080078125,
          45236.27891162718,
          13950.378415664276,
          4476.612995656607,
          174.6799926757812,
          5318.740995209107,
          475.3500061035156,
          3017.30750600569,
          18606.262684730777,
          498.9800109863281,
          6243.765384796284,
          293.5213488672044,
          1711.3967990798496,
          5350.825642514585
         ]
        }
       ],
       "layout": {
        "coloraxis": {
         "colorbar": {
          "title": {
           "text": "Market Cap (USD)"
          }
         },
         "colorscale": [
          [
           0,
           "#0d0887"
          ],
          [
           0.1111111111111111,
           "#46039f"
          ],
          [
           0.2222222222222222,
           "#7201a8"
          ],
          [
           0.3333333333333333,
           "#9c179e"
          ],
          [
           0.4444444444444444,
           "#bd3786"
          ],
          [
           0.5555555555555556,
           "#d8576b"
          ],
          [
           0.6666666666666666,
           "#ed7953"
          ],
          [
           0.7777777777777778,
           "#fb9f3a"
          ],
          [
           0.8888888888888888,
           "#fdca26"
          ],
          [
           1,
           "#f0f921"
          ]
         ]
        },
        "height": 760,
        "legend": {
         "tracegroupgap": 0
        },
        "template": {
         "data": {
          "bar": [
           {
            "error_x": {
             "color": "#2a3f5f"
            },
            "error_y": {
             "color": "#2a3f5f"
            },
            "marker": {
             "line": {
              "color": "#E5ECF6",
              "width": 0.5
             }
            },
            "type": "bar"
           }
          ],
          "barpolar": [
           {
            "marker": {
             "line": {
              "color": "#E5ECF6",
              "width": 0.5
             }
            },
            "type": "barpolar"
           }
          ],
          "carpet": [
           {
            "aaxis": {
             "endlinecolor": "#2a3f5f",
             "gridcolor": "white",
             "linecolor": "white",
             "minorgridcolor": "white",
             "startlinecolor": "#2a3f5f"
            },
            "baxis": {
             "endlinecolor": "#2a3f5f",
             "gridcolor": "white",
             "linecolor": "white",
             "minorgridcolor": "white",
             "startlinecolor": "#2a3f5f"
            },
            "type": "carpet"
           }
          ],
          "choropleth": [
           {
            "colorbar": {
             "outlinewidth": 0,
             "ticks": ""
            },
            "type": "choropleth"
           }
          ],
          "contour": [
           {
            "colorbar": {
             "outlinewidth": 0,
             "ticks": ""
            },
            "colorscale": [
             [
              0,
              "#0d0887"
             ],
             [
              0.1111111111111111,
              "#46039f"
             ],
             [
              0.2222222222222222,
              "#7201a8"
             ],
             [
              0.3333333333333333,
              "#9c179e"
             ],
             [
              0.4444444444444444,
              "#bd3786"
             ],
             [
              0.5555555555555556,
              "#d8576b"
             ],
             [
              0.6666666666666666,
              "#ed7953"
             ],
             [
              0.7777777777777778,
              "#fb9f3a"
             ],
             [
              0.8888888888888888,
              "#fdca26"
             ],
             [
              1,
              "#f0f921"
             ]
            ],
            "type": "contour"
           }
          ],
          "contourcarpet": [
           {
            "colorbar": {
             "outlinewidth": 0,
             "ticks": ""
            },
            "type": "contourcarpet"
           }
          ],
          "heatmap": [
           {
            "colorbar": {
             "outlinewidth": 0,
             "ticks": ""
            },
            "colorscale": [
             [
              0,
              "#0d0887"
             ],
             [
              0.1111111111111111,
              "#46039f"
             ],
             [
              0.2222222222222222,
              "#7201a8"
             ],
             [
              0.3333333333333333,
              "#9c179e"
             ],
             [
              0.4444444444444444,
              "#bd3786"
             ],
             [
              0.5555555555555556,
              "#d8576b"
             ],
             [
              0.6666666666666666,
              "#ed7953"
             ],
             [
              0.7777777777777778,
              "#fb9f3a"
             ],
             [
              0.8888888888888888,
              "#fdca26"
             ],
             [
              1,
              "#f0f921"
             ]
            ],
            "type": "heatmap"
           }
          ],
          "heatmapgl": [
           {
            "colorbar": {
             "outlinewidth": 0,
             "ticks": ""
            },
            "colorscale": [
             [
              0,
              "#0d0887"
             ],
             [
              0.1111111111111111,
              "#46039f"
             ],
             [
              0.2222222222222222,
              "#7201a8"
             ],
             [
              0.3333333333333333,
              "#9c179e"
             ],
             [
              0.4444444444444444,
              "#bd3786"
             ],
             [
              0.5555555555555556,
              "#d8576b"
             ],
             [
              0.6666666666666666,
              "#ed7953"
             ],
             [
              0.7777777777777778,
              "#fb9f3a"
             ],
             [
              0.8888888888888888,
              "#fdca26"
             ],
             [
              1,
              "#f0f921"
             ]
            ],
            "type": "heatmapgl"
           }
          ],
          "histogram": [
           {
            "marker": {
             "colorbar": {
              "outlinewidth": 0,
              "ticks": ""
             }
            },
            "type": "histogram"
           }
          ],
          "histogram2d": [
           {
            "colorbar": {
             "outlinewidth": 0,
             "ticks": ""
            },
            "colorscale": [
             [
              0,
              "#0d0887"
             ],
             [
              0.1111111111111111,
              "#46039f"
             ],
             [
              0.2222222222222222,
              "#7201a8"
             ],
             [
              0.3333333333333333,
              "#9c179e"
             ],
             [
              0.4444444444444444,
              "#bd3786"
             ],
             [
              0.5555555555555556,
              "#d8576b"
             ],
             [
              0.6666666666666666,
              "#ed7953"
             ],
             [
              0.7777777777777778,
              "#fb9f3a"
             ],
             [
              0.8888888888888888,
              "#fdca26"
             ],
             [
              1,
              "#f0f921"
             ]
            ],
            "type": "histogram2d"
           }
          ],
          "histogram2dcontour": [
           {
            "colorbar": {
             "outlinewidth": 0,
             "ticks": ""
            },
            "colorscale": [
             [
              0,
              "#0d0887"
             ],
             [
              0.1111111111111111,
              "#46039f"
             ],
             [
              0.2222222222222222,
              "#7201a8"
             ],
             [
              0.3333333333333333,
              "#9c179e"
             ],
             [
              0.4444444444444444,
              "#bd3786"
             ],
             [
              0.5555555555555556,
              "#d8576b"
             ],
             [
              0.6666666666666666,
              "#ed7953"
             ],
             [
              0.7777777777777778,
              "#fb9f3a"
             ],
             [
              0.8888888888888888,
              "#fdca26"
             ],
             [
              1,
              "#f0f921"
             ]
            ],
            "type": "histogram2dcontour"
           }
          ],
          "mesh3d": [
           {
            "colorbar": {
             "outlinewidth": 0,
             "ticks": ""
            },
            "type": "mesh3d"
           }
          ],
          "parcoords": [
           {
            "line": {
             "colorbar": {
              "outlinewidth": 0,
              "ticks": ""
             }
            },
            "type": "parcoords"
           }
          ],
          "pie": [
           {
            "automargin": true,
            "type": "pie"
           }
          ],
          "scatter": [
           {
            "marker": {
             "colorbar": {
              "outlinewidth": 0,
              "ticks": ""
             }
            },
            "type": "scatter"
           }
          ],
          "scatter3d": [
           {
            "line": {
             "colorbar": {
              "outlinewidth": 0,
              "ticks": ""
             }
            },
            "marker": {
             "colorbar": {
              "outlinewidth": 0,
              "ticks": ""
             }
            },
            "type": "scatter3d"
           }
          ],
          "scattercarpet": [
           {
            "marker": {
             "colorbar": {
              "outlinewidth": 0,
              "ticks": ""
             }
            },
            "type": "scattercarpet"
           }
          ],
          "scattergeo": [
           {
            "marker": {
             "colorbar": {
              "outlinewidth": 0,
              "ticks": ""
             }
            },
            "type": "scattergeo"
           }
          ],
          "scattergl": [
           {
            "marker": {
             "colorbar": {
              "outlinewidth": 0,
              "ticks": ""
             }
            },
            "type": "scattergl"
           }
          ],
          "scattermapbox": [
           {
            "marker": {
             "colorbar": {
              "outlinewidth": 0,
              "ticks": ""
             }
            },
            "type": "scattermapbox"
           }
          ],
          "scatterpolar": [
           {
            "marker": {
             "colorbar": {
              "outlinewidth": 0,
              "ticks": ""
             }
            },
            "type": "scatterpolar"
           }
          ],
          "scatterpolargl": [
           {
            "marker": {
             "colorbar": {
              "outlinewidth": 0,
              "ticks": ""
             }
            },
            "type": "scatterpolargl"
           }
          ],
          "scatterternary": [
           {
            "marker": {
             "colorbar": {
              "outlinewidth": 0,
              "ticks": ""
             }
            },
            "type": "scatterternary"
           }
          ],
          "surface": [
           {
            "colorbar": {
             "outlinewidth": 0,
             "ticks": ""
            },
            "colorscale": [
             [
              0,
              "#0d0887"
             ],
             [
              0.1111111111111111,
              "#46039f"
             ],
             [
              0.2222222222222222,
              "#7201a8"
             ],
             [
              0.3333333333333333,
              "#9c179e"
             ],
             [
              0.4444444444444444,
              "#bd3786"
             ],
             [
              0.5555555555555556,
              "#d8576b"
             ],
             [
              0.6666666666666666,
              "#ed7953"
             ],
             [
              0.7777777777777778,
              "#fb9f3a"
             ],
             [
              0.8888888888888888,
              "#fdca26"
             ],
             [
              1,
              "#f0f921"
             ]
            ],
            "type": "surface"
           }
          ],
          "table": [
           {
            "cells": {
             "fill": {
              "color": "#EBF0F8"
             },
             "line": {
              "color": "white"
             }
            },
            "header": {
             "fill": {
              "color": "#C8D4E3"
             },
             "line": {
              "color": "white"
             }
            },
            "type": "table"
           }
          ]
         },
         "layout": {
          "annotationdefaults": {
           "arrowcolor": "#2a3f5f",
           "arrowhead": 0,
           "arrowwidth": 1
          },
          "autotypenumbers": "strict",
          "coloraxis": {
           "colorbar": {
            "outlinewidth": 0,
            "ticks": ""
           }
          },
          "colorscale": {
           "diverging": [
            [
             0,
             "#8e0152"
            ],
            [
             0.1,
             "#c51b7d"
            ],
            [
             0.2,
             "#de77ae"
            ],
            [
             0.3,
             "#f1b6da"
            ],
            [
             0.4,
             "#fde0ef"
            ],
            [
             0.5,
             "#f7f7f7"
            ],
            [
             0.6,
             "#e6f5d0"
            ],
            [
             0.7,
             "#b8e186"
            ],
            [
             0.8,
             "#7fbc41"
            ],
            [
             0.9,
             "#4d9221"
            ],
            [
             1,
             "#276419"
            ]
           ],
           "sequential": [
            [
             0,
             "#0d0887"
            ],
            [
             0.1111111111111111,
             "#46039f"
            ],
            [
             0.2222222222222222,
             "#7201a8"
            ],
            [
             0.3333333333333333,
             "#9c179e"
            ],
            [
             0.4444444444444444,
             "#bd3786"
            ],
            [
             0.5555555555555556,
             "#d8576b"
            ],
            [
             0.6666666666666666,
             "#ed7953"
            ],
            [
             0.7777777777777778,
             "#fb9f3a"
            ],
            [
             0.8888888888888888,
             "#fdca26"
            ],
            [
             1,
             "#f0f921"
            ]
           ],
           "sequentialminus": [
            [
             0,
             "#0d0887"
            ],
            [
             0.1111111111111111,
             "#46039f"
            ],
            [
             0.2222222222222222,
             "#7201a8"
            ],
            [
             0.3333333333333333,
             "#9c179e"
            ],
            [
             0.4444444444444444,
             "#bd3786"
            ],
            [
             0.5555555555555556,
             "#d8576b"
            ],
            [
             0.6666666666666666,
             "#ed7953"
            ],
            [
             0.7777777777777778,
             "#fb9f3a"
            ],
            [
             0.8888888888888888,
             "#fdca26"
            ],
            [
             1,
             "#f0f921"
            ]
           ]
          },
          "colorway": [
           "#636efa",
           "#EF553B",
           "#00cc96",
           "#ab63fa",
           "#FFA15A",
           "#19d3f3",
           "#FF6692",
           "#B6E880",
           "#FF97FF",
           "#FECB52"
          ],
          "font": {
           "color": "#2a3f5f"
          },
          "geo": {
           "bgcolor": "white",
           "lakecolor": "white",
           "landcolor": "#E5ECF6",
           "showlakes": true,
           "showland": true,
           "subunitcolor": "white"
          },
          "hoverlabel": {
           "align": "left"
          },
          "hovermode": "closest",
          "mapbox": {
           "style": "light"
          },
          "paper_bgcolor": "white",
          "plot_bgcolor": "#E5ECF6",
          "polar": {
           "angularaxis": {
            "gridcolor": "white",
            "linecolor": "white",
            "ticks": ""
           },
           "bgcolor": "#E5ECF6",
           "radialaxis": {
            "gridcolor": "white",
            "linecolor": "white",
            "ticks": ""
           }
          },
          "scene": {
           "xaxis": {
            "backgroundcolor": "#E5ECF6",
            "gridcolor": "white",
            "gridwidth": 2,
            "linecolor": "white",
            "showbackground": true,
            "ticks": "",
            "zerolinecolor": "white"
           },
           "yaxis": {
            "backgroundcolor": "#E5ECF6",
            "gridcolor": "white",
            "gridwidth": 2,
            "linecolor": "white",
            "showbackground": true,
            "ticks": "",
            "zerolinecolor": "white"
           },
           "zaxis": {
            "backgroundcolor": "#E5ECF6",
            "gridcolor": "white",
            "gridwidth": 2,
            "linecolor": "white",
            "showbackground": true,
            "ticks": "",
            "zerolinecolor": "white"
           }
          },
          "shapedefaults": {
           "line": {
            "color": "#2a3f5f"
           }
          },
          "ternary": {
           "aaxis": {
            "gridcolor": "white",
            "linecolor": "white",
            "ticks": ""
           },
           "baxis": {
            "gridcolor": "white",
            "linecolor": "white",
            "ticks": ""
           },
           "bgcolor": "#E5ECF6",
           "caxis": {
            "gridcolor": "white",
            "linecolor": "white",
            "ticks": ""
           }
          },
          "title": {
           "x": 0.05
          },
          "xaxis": {
           "automargin": true,
           "gridcolor": "white",
           "linecolor": "white",
           "ticks": "",
           "title": {
            "standoff": 15
           },
           "zerolinecolor": "white",
           "zerolinewidth": 2
          },
          "yaxis": {
           "automargin": true,
           "gridcolor": "white",
           "linecolor": "white",
           "ticks": "",
           "title": {
            "standoff": 15
           },
           "zerolinecolor": "white",
           "zerolinewidth": 2
          }
         }
        },
        "title": {
         "text": "STOCKS CATEGORIZED BY INDUSTRIES"
        },
        "width": 1280
       }
      }
     },
     "metadata": {},
     "output_type": "display_data"
    }
   ],
   "source": [
    "map_df['Industry'] = map_df['Industry'].str.upper()\n",
    "fig = px.treemap(map_df, \n",
    "                 path=['Industry', 'Symbol'], \n",
    "                 hover_data=['Company','Yahoo Symbol','Country'],\n",
    "                 values='Market Cap (USD)',\n",
    "                 color='Market Cap (USD)',\n",
    "                 title='STOCKS CATEGORIZED BY INDUSTRIES',\n",
    "                 width=1280,\n",
    "                 height=760)\n",
    "fig.show()\n",
    "fig.write_image(\"../images/INDUSTRIES.png\")"
   ]
  }
 ],
 "metadata": {
  "interpreter": {
   "hash": "cef9e06bb236b2a8629b07e87a04b187b952a0f661eff5533360a155783f0c33"
  },
  "kernelspec": {
   "display_name": "Python 3.8.5 64-bit ('base': conda)",
   "name": "python3"
  },
  "language_info": {
   "codemirror_mode": {
    "name": "ipython",
    "version": 3
   },
   "file_extension": ".py",
   "mimetype": "text/x-python",
   "name": "python",
   "nbconvert_exporter": "python",
   "pygments_lexer": "ipython3",
   "version": "3.8.5"
  },
  "orig_nbformat": 4
 },
 "nbformat": 4,
 "nbformat_minor": 2
}
